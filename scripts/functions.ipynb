{
 "cells": [
  {
   "cell_type": "code",
   "execution_count": 2,
   "id": "65179039-0ab2-47ae-bf29-3424b411a380",
   "metadata": {},
   "outputs": [
    {
     "name": "stdout",
     "output_type": "stream",
     "text": [
      "C:\\Users\\tsoh2.DESKTOP-313433V\\Documents\\GitHub\\Optimus\n"
     ]
    }
   ],
   "source": [
    "from pathlib import Path, PureWindowsPath\n",
    "import sys, os\n",
    "PROGRAM_DIR = Path(\".\").resolve().parents[0].absolute().__str__()\n",
    "print(PROGRAM_DIR)"
   ]
  },
  {
   "cell_type": "code",
   "execution_count": 3,
   "id": "570149a2-15e4-4a03-b11e-2de64c1d34d5",
   "metadata": {},
   "outputs": [],
   "source": [
    "#MODULE_PATH_file = Path(__file__).parents[0].resolve().absolute().__str__()\n",
    "MODULE_PATH_src = Path(f\"{PROGRAM_DIR}/autobot/src/general_automation\").resolve().absolute().__str__()\n",
    "MODULE_PATH_lib = Path(f\"{PROGRAM_DIR}/autobot/venv/Lib/site-packages\").resolve().absolute().__str__()  #OPTIMUS_DIR\n",
    "sys.path.append(MODULE_PATH_src)\n",
    "sys.path.append(MODULE_PATH_lib)"
   ]
  },
  {
   "cell_type": "code",
   "execution_count": 4,
   "id": "7d871c22-d9e4-4050-b52c-1cee8f271f77",
   "metadata": {},
   "outputs": [],
   "source": [
    "import passwords\n"
   ]
  },
  {
   "cell_type": "code",
   "execution_count": 9,
   "id": "9504ae77-52e3-4f51-80ab-10cbe6dd772b",
   "metadata": {},
   "outputs": [
    {
     "name": "stdout",
     "output_type": "stream",
     "text": [
      "['DirEntry', 'F_OK', 'GenericAlias', 'Mapping', 'MutableMapping', 'O_APPEND', 'O_BINARY', 'O_CREAT', 'O_EXCL', 'O_NOINHERIT', 'O_RANDOM', 'O_RDONLY', 'O_RDWR', 'O_SEQUENTIAL', 'O_SHORT_LIVED', 'O_TEMPORARY', 'O_TEXT', 'O_TRUNC', 'O_WRONLY', 'P_DETACH', 'P_NOWAIT', 'P_NOWAITO', 'P_OVERLAY', 'P_WAIT', 'PathLike', 'R_OK', 'SEEK_CUR', 'SEEK_END', 'SEEK_SET', 'TMP_MAX', 'W_OK', 'X_OK', '_AddedDllDirectory', '_Environ', '__all__', '__builtins__', '__cached__', '__doc__', '__file__', '__loader__', '__name__', '__package__', '__spec__', '_check_methods', '_execvpe', '_exists', '_exit', '_fspath', '_get_exports_list', '_walk', '_wrap_close', 'abc', 'abort', 'access', 'add_dll_directory', 'altsep', 'chdir', 'chmod', 'close', 'closerange', 'cpu_count', 'curdir', 'defpath', 'device_encoding', 'devnull', 'dup', 'dup2', 'environ', 'error', 'execl', 'execle', 'execlp', 'execlpe', 'execv', 'execve', 'execvp', 'execvpe', 'extsep', 'fdopen', 'fsdecode', 'fsencode', 'fspath', 'fstat', 'fsync', 'ftruncate', 'get_exec_path', 'get_handle_inheritable', 'get_inheritable', 'get_terminal_size', 'getcwd', 'getcwdb', 'getenv', 'getlogin', 'getpid', 'getppid', 'isatty', 'kill', 'linesep', 'link', 'listdir', 'lseek', 'lstat', 'makedirs', 'mkdir', 'name', 'open', 'pardir', 'path', 'pathsep', 'pipe', 'popen', 'putenv', 'read', 'readlink', 'remove', 'removedirs', 'rename', 'renames', 'replace', 'rmdir', 'scandir', 'sep', 'set_handle_inheritable', 'set_inheritable', 'spawnl', 'spawnle', 'spawnv', 'spawnve', 'st', 'startfile', 'stat', 'stat_result', 'statvfs_result', 'strerror', 'supports_bytes_environ', 'supports_dir_fd', 'supports_effective_ids', 'supports_fd', 'supports_follow_symlinks', 'symlink', 'sys', 'system', 'terminal_size', 'times', 'times_result', 'truncate', 'umask', 'uname_result', 'unlink', 'unsetenv', 'urandom', 'utime', 'waitpid', 'waitstatus_to_exitcode', 'walk', 'write']\n",
      "listdir function is present in os module\n"
     ]
    }
   ],
   "source": [
    "def is_function_in_module(module_name, function_name):\n",
    "    module = __import__(module_name)\n",
    "    print(dir(module))\n",
    "    return function_name in dir(module)\n",
    "\n",
    "# Example usage\n",
    "if is_function_in_module('os', 'listdir'):\n",
    "    print('listdir function is present in os module')\n",
    "else:\n",
    "    print('listdir function is not present in os module')\n"
   ]
  },
  {
   "cell_type": "code",
   "execution_count": 10,
   "id": "8be04471-f83b-4f64-bd2f-a3b71cdccf56",
   "metadata": {},
   "outputs": [
    {
     "name": "stdout",
     "output_type": "stream",
     "text": [
      "['AES', '__builtins__', '__cached__', '__doc__', '__file__', '__loader__', '__name__', '__package__', '__spec__', 'base64', 'chromePath', 'datetime', 'decrypt_password', 'domain', 'get_chrome_datetime', 'get_encryption_key', 'json', 'main', 'os', 'retrieveHttpCredentials', 'retrieveSecret', 'returnPassword', 'shutil', 'sqlite3', 'testmain', 'timedelta', 'timezone', 'win32crypt']\n",
      "listdir function is present in os module\n"
     ]
    }
   ],
   "source": [
    "# Example usage\n",
    "if is_function_in_module('passwords', 'retrieveHttpCredentials'):\n",
    "    print('listdir function is present in os module')\n",
    "else:\n",
    "    print('listdir function is not present in os module')\n"
   ]
  },
  {
   "cell_type": "code",
   "execution_count": 11,
   "id": "b06f7fbf-b948-4cea-8e9e-3d2159e79eb1",
   "metadata": {},
   "outputs": [
    {
     "name": "stdout",
     "output_type": "stream",
     "text": [
      "['DirEntry', 'GenericAlias', 'Mapping', 'MutableMapping', 'PathLike', '_AddedDllDirectory', '_Environ', '_check_methods', '_execvpe', '_exists', '_exit', '_fspath', '_get_exports_list', '_walk', '_wrap_close', 'abort', 'access', 'add_dll_directory', 'chdir', 'chmod', 'close', 'closerange', 'cpu_count', 'device_encoding', 'dup', 'dup2', 'error', 'execl', 'execle', 'execlp', 'execlpe', 'execv', 'execve', 'execvp', 'execvpe', 'fdopen', 'fsdecode', 'fsencode', 'fspath', 'fstat', 'fsync', 'ftruncate', 'get_exec_path', 'get_handle_inheritable', 'get_inheritable', 'get_terminal_size', 'getcwd', 'getcwdb', 'getenv', 'getlogin', 'getpid', 'getppid', 'isatty', 'kill', 'link', 'listdir', 'lseek', 'lstat', 'makedirs', 'mkdir', 'open', 'pipe', 'popen', 'putenv', 'read', 'readlink', 'remove', 'removedirs', 'rename', 'renames', 'replace', 'rmdir', 'scandir', 'set_handle_inheritable', 'set_inheritable', 'spawnl', 'spawnle', 'spawnv', 'spawnve', 'startfile', 'stat', 'stat_result', 'statvfs_result', 'strerror', 'symlink', 'system', 'terminal_size', 'times', 'times_result', 'truncate', 'umask', 'uname_result', 'unlink', 'unsetenv', 'urandom', 'utime', 'waitpid', 'waitstatus_to_exitcode', 'walk', 'write']\n"
     ]
    }
   ],
   "source": [
    "import inspect\n",
    "\n",
    "def list_callable_functions(module_name):\n",
    "    module = __import__(module_name)\n",
    "    return [name for name, obj in inspect.getmembers(module) if callable(obj)]\n",
    "\n",
    "# Example usage\n",
    "print(list_callable_functions('os'))\n"
   ]
  },
  {
   "cell_type": "code",
   "execution_count": 12,
   "id": "a0311ace-46cf-4827-b059-9a71dc10884e",
   "metadata": {},
   "outputs": [
    {
     "name": "stdout",
     "output_type": "stream",
     "text": [
      "['datetime', 'decrypt_password', 'domain', 'get_chrome_datetime', 'get_encryption_key', 'main', 'retrieveHttpCredentials', 'retrieveSecret', 'returnPassword', 'testmain', 'timedelta', 'timezone']\n"
     ]
    }
   ],
   "source": [
    "# Example usage\n",
    "print(list_callable_functions('passwords'))"
   ]
  },
  {
   "cell_type": "code",
   "execution_count": 18,
   "id": "1d087be5-d6a0-49a8-a82a-41259e027e55",
   "metadata": {},
   "outputs": [],
   "source": [
    "from pydantic import BaseModel\n",
    "\n",
    "class MyModel(BaseModel):\n",
    "    arg1: int\n",
    "    arg2: str\n",
    "\n",
    "def my_function(arg1: int, arg2: str):\n",
    "    model = MyModel(arg1=arg1, arg2=arg2)\n",
    "    # Do something with the validated input arguments\n",
    "    print(arg1, arg2)\n",
    "    print(type(arg1), type(arg2))\n"
   ]
  },
  {
   "cell_type": "code",
   "execution_count": 19,
   "id": "b9019fa5-c4fc-42d6-8190-045f6d72991f",
   "metadata": {},
   "outputs": [
    {
     "name": "stdout",
     "output_type": "stream",
     "text": [
      "1 2\n",
      "<class 'str'> <class 'int'>\n"
     ]
    }
   ],
   "source": [
    "my_function(\"1\", 2)"
   ]
  },
  {
   "cell_type": "code",
   "execution_count": 20,
   "id": "0ada68e4-acf7-4b4f-aff2-339b5c2dedf6",
   "metadata": {},
   "outputs": [
    {
     "ename": "AttributeError",
     "evalue": "type object 'MyModel' has no attribute 'model_validate'",
     "output_type": "error",
     "traceback": [
      "\u001b[1;31m---------------------------------------------------------------------------\u001b[0m",
      "\u001b[1;31mAttributeError\u001b[0m                            Traceback (most recent call last)",
      "Cell \u001b[1;32mIn[20], line 8\u001b[0m\n\u001b[0;32m      4\u001b[0m \u001b[38;5;28;01mclass\u001b[39;00m \u001b[38;5;21;01mMyModel\u001b[39;00m(BaseModel):\n\u001b[0;32m      5\u001b[0m     x: \u001b[38;5;28mint\u001b[39m\n\u001b[1;32m----> 8\u001b[0m \u001b[38;5;28mprint\u001b[39m(\u001b[43mMyModel\u001b[49m\u001b[38;5;241;43m.\u001b[39;49m\u001b[43mmodel_validate\u001b[49m({\u001b[38;5;124m'\u001b[39m\u001b[38;5;124mx\u001b[39m\u001b[38;5;124m'\u001b[39m: \u001b[38;5;124m'\u001b[39m\u001b[38;5;124m123\u001b[39m\u001b[38;5;124m'\u001b[39m}))  \u001b[38;5;66;03m# lax mode\u001b[39;00m\n\u001b[0;32m      9\u001b[0m \u001b[38;5;66;03m#> x=123\u001b[39;00m\n\u001b[0;32m     11\u001b[0m \u001b[38;5;28;01mtry\u001b[39;00m:\n",
      "\u001b[1;31mAttributeError\u001b[0m: type object 'MyModel' has no attribute 'model_validate'"
     ]
    }
   ],
   "source": [
    "from pydantic import BaseModel, ValidationError\n",
    "\n",
    "\n",
    "class MyModel(BaseModel):\n",
    "    x: int\n",
    "\n",
    "\n",
    "print(MyModel.model_validate({'x': '123'}))  # lax mode\n",
    "#> x=123\n",
    "\n",
    "try:\n",
    "    MyModel.model_validate({'x': '123'}, strict=True)  # strict mode\n",
    "except ValidationError as exc:\n",
    "    print(exc)\n",
    "    \"\"\"\n",
    "    1 validation error for MyModel\n",
    "    x\n",
    "      Input should be a valid integer [type=int_type, input_value='123', input_type=str]\n",
    "    \"\"\"\n"
   ]
  },
  {
   "cell_type": "code",
   "execution_count": 21,
   "id": "20d8fc50-a2b7-4037-afd7-30b4b0bfec9a",
   "metadata": {},
   "outputs": [],
   "source": [
    "from pydantic import BaseModel, ValidationError\n",
    "\n",
    "class MyModel(BaseModel):\n",
    "    arg1: int\n",
    "    arg2: str\n",
    "\n",
    "def my_function(arg1: int, arg2: str):\n",
    "    try:\n",
    "        model = MyModel(arg1=arg1, arg2=arg2)\n",
    "        # Do something with the validated input arguments\n",
    "    except ValidationError as e:\n",
    "        # Handle validation errors here\n",
    "        print(f\"Validation error: {e}\")\n"
   ]
  },
  {
   "cell_type": "code",
   "execution_count": 24,
   "id": "2806fe2c-250e-4e64-9ff9-5c46e79126b5",
   "metadata": {},
   "outputs": [
    {
     "name": "stdout",
     "output_type": "stream",
     "text": [
      "Validation error: 1 validation error for MyModel\n",
      "arg1\n",
      "  value is not a valid integer (type=type_error.integer)\n"
     ]
    }
   ],
   "source": [
    "my_function([1], 2)"
   ]
  },
  {
   "cell_type": "code",
   "execution_count": 28,
   "id": "d2d95932-8daa-427f-b92f-80c20a75a4c6",
   "metadata": {},
   "outputs": [],
   "source": [
    "from pydantic import validate_arguments, ValidationError\n",
    "\n",
    "class MyModel(BaseModel):\n",
    "    arg1: int\n",
    "    arg2: str\n",
    "\n",
    "@validate_arguments(config=dict(arbitrary_types_allowed=True))\n",
    "def my_function(arg1: int, arg2: str):\n",
    "    model = MyModel(arg1=arg1, arg2=arg2)\n",
    "    # Do something with the validated input arguments\n",
    "\n",
    "\n"
   ]
  },
  {
   "cell_type": "code",
   "execution_count": 31,
   "id": "8fc2f1ad-364c-4ddd-97cb-ba1d889015ce",
   "metadata": {},
   "outputs": [
    {
     "ename": "ValidationError",
     "evalue": "2 validation errors for MyFunction\narg1\n  value is not a valid integer (type=type_error.integer)\nargs\n  2 positional arguments expected but 3 given (type=type_error)",
     "output_type": "error",
     "traceback": [
      "\u001b[1;31m---------------------------------------------------------------------------\u001b[0m",
      "\u001b[1;31mValidationError\u001b[0m                           Traceback (most recent call last)",
      "Cell \u001b[1;32mIn[31], line 2\u001b[0m\n\u001b[0;32m      1\u001b[0m \u001b[38;5;66;03m# Example usage\u001b[39;00m\n\u001b[1;32m----> 2\u001b[0m \u001b[43mmy_function\u001b[49m\u001b[43m(\u001b[49m\u001b[43m[\u001b[49m\u001b[38;5;241;43m1\u001b[39;49m\u001b[43m]\u001b[49m\u001b[43m,\u001b[49m\u001b[43m \u001b[49m\u001b[38;5;124;43m'\u001b[39;49m\u001b[38;5;124;43mhello\u001b[39;49m\u001b[38;5;124;43m'\u001b[39;49m\u001b[43m,\u001b[49m\u001b[43m \u001b[49m\u001b[38;5;124;43m'\u001b[39;49m\u001b[38;5;124;43mhappy\u001b[39;49m\u001b[38;5;124;43m'\u001b[39;49m\u001b[43m)\u001b[49m\n",
      "File \u001b[1;32m~\\Documents\\GitHub\\Optimus\\autobot\\venv\\lib\\site-packages\\pydantic\\decorator.py:40\u001b[0m, in \u001b[0;36mpydantic.decorator.validate_arguments.validate.wrapper_function\u001b[1;34m()\u001b[0m\n",
      "File \u001b[1;32m~\\Documents\\GitHub\\Optimus\\autobot\\venv\\lib\\site-packages\\pydantic\\decorator.py:133\u001b[0m, in \u001b[0;36mpydantic.decorator.ValidatedFunction.call\u001b[1;34m()\u001b[0m\n",
      "File \u001b[1;32m~\\Documents\\GitHub\\Optimus\\autobot\\venv\\lib\\site-packages\\pydantic\\decorator.py:130\u001b[0m, in \u001b[0;36mpydantic.decorator.ValidatedFunction.init_model_instance\u001b[1;34m()\u001b[0m\n",
      "File \u001b[1;32m~\\Documents\\GitHub\\Optimus\\autobot\\venv\\lib\\site-packages\\pydantic\\main.py:341\u001b[0m, in \u001b[0;36mpydantic.main.BaseModel.__init__\u001b[1;34m()\u001b[0m\n",
      "\u001b[1;31mValidationError\u001b[0m: 2 validation errors for MyFunction\narg1\n  value is not a valid integer (type=type_error.integer)\nargs\n  2 positional arguments expected but 3 given (type=type_error)"
     ]
    }
   ],
   "source": [
    "# Example usage\n",
    "my_function([1], 'hello', 'happy')\n"
   ]
  },
  {
   "cell_type": "code",
   "execution_count": null,
   "id": "6cf3eaf8-0eef-499a-a9a9-8766e943c1d9",
   "metadata": {},
   "outputs": [],
   "source": []
  }
 ],
 "metadata": {
  "kernelspec": {
   "display_name": "Optimus",
   "language": "python",
   "name": "optimus"
  },
  "language_info": {
   "codemirror_mode": {
    "name": "ipython",
    "version": 3
   },
   "file_extension": ".py",
   "mimetype": "text/x-python",
   "name": "python",
   "nbconvert_exporter": "python",
   "pygments_lexer": "ipython3",
   "version": "3.10.9"
  }
 },
 "nbformat": 4,
 "nbformat_minor": 5
}
