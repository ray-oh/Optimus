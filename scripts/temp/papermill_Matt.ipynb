{
 "cells": [
  {
   "cell_type": "code",
   "execution_count": 1,
   "id": "0ad36782",
   "metadata": {
    "execution": {
     "iopub.execute_input": "2022-12-04T14:03:57.068159Z",
     "iopub.status.busy": "2022-12-04T14:03:57.065988Z",
     "iopub.status.idle": "2022-12-04T14:03:57.092264Z",
     "shell.execute_reply": "2022-12-04T14:03:57.090527Z"
    },
    "papermill": {
     "duration": 0.035128,
     "end_time": "2022-12-04T14:03:57.094532",
     "exception": false,
     "start_time": "2022-12-04T14:03:57.059404",
     "status": "completed"
    },
    "tags": [
     "parameters"
    ]
   },
   "outputs": [],
   "source": [
    "name = \"Joe\""
   ]
  },
  {
   "cell_type": "code",
   "execution_count": 2,
   "id": "655c04fa",
   "metadata": {
    "execution": {
     "iopub.execute_input": "2022-12-04T14:03:57.109201Z",
     "iopub.status.busy": "2022-12-04T14:03:57.108206Z",
     "iopub.status.idle": "2022-12-04T14:03:57.130913Z",
     "shell.execute_reply": "2022-12-04T14:03:57.129911Z"
    },
    "papermill": {
     "duration": 0.031156,
     "end_time": "2022-12-04T14:03:57.133288",
     "exception": false,
     "start_time": "2022-12-04T14:03:57.102132",
     "status": "completed"
    },
    "tags": [
     "injected-parameters"
    ]
   },
   "outputs": [],
   "source": [
    "# Parameters\n",
    "name = \"Matt\"\n"
   ]
  },
  {
   "cell_type": "code",
   "execution_count": 3,
   "id": "bbef7e95",
   "metadata": {
    "execution": {
     "iopub.execute_input": "2022-12-04T14:03:57.140310Z",
     "iopub.status.busy": "2022-12-04T14:03:57.139309Z",
     "iopub.status.idle": "2022-12-04T14:03:57.154026Z",
     "shell.execute_reply": "2022-12-04T14:03:57.152959Z"
    },
    "papermill": {
     "duration": 0.021767,
     "end_time": "2022-12-04T14:03:57.156057",
     "exception": false,
     "start_time": "2022-12-04T14:03:57.134290",
     "status": "completed"
    },
    "tags": []
   },
   "outputs": [
    {
     "name": "stdout",
     "output_type": "stream",
     "text": [
      "Hello Matt\n"
     ]
    }
   ],
   "source": [
    "print(f\"Hello {name}\")"
   ]
  },
  {
   "cell_type": "code",
   "execution_count": null,
   "id": "65001212",
   "metadata": {
    "papermill": {
     "duration": 0.003128,
     "end_time": "2022-12-04T14:03:57.161479",
     "exception": false,
     "start_time": "2022-12-04T14:03:57.158351",
     "status": "completed"
    },
    "tags": []
   },
   "outputs": [],
   "source": []
  }
 ],
 "metadata": {
  "celltoolbar": "Tags",
  "kernelspec": {
   "display_name": "optimus",
   "language": "python",
   "name": "optimus"
  },
  "language_info": {
   "codemirror_mode": {
    "name": "ipython",
    "version": 3
   },
   "file_extension": ".py",
   "mimetype": "text/x-python",
   "name": "python",
   "nbconvert_exporter": "python",
   "pygments_lexer": "ipython3",
   "version": "3.10.8"
  },
  "papermill": {
   "default_parameters": {},
   "duration": 2.766364,
   "end_time": "2022-12-04T14:03:57.430326",
   "environment_variables": {},
   "exception": null,
   "input_path": "papermill_example1.ipynb",
   "output_path": "papermill_Matt.ipynb",
   "parameters": {
    "name": "Matt"
   },
   "start_time": "2022-12-04T14:03:54.663962",
   "version": "2.4.0"
  }
 },
 "nbformat": 4,
 "nbformat_minor": 5
}