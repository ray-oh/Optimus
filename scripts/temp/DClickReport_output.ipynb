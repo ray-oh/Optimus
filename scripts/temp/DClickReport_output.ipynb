{
 "cells": [
  {
   "cell_type": "code",
   "execution_count": null,
   "id": "a19cfa6b",
   "metadata": {
    "papermill": {
     "duration": null,
     "end_time": null,
     "exception": null,
     "start_time": null,
     "status": "completed"
    },
    "tags": [
     "parameters"
    ]
   },
   "outputs": [],
   "source": [
    "# parameters\n",
    "#file = r'C:\\Users\\roh\\Downloads\\1602bbe3-3ba6-4d5f-8f80-79cfe019dbc5.xlsx'\n",
    "#file = r'C:\\Users\\roh\\Downloads\\countrystoreproduct.xlsx'\n",
    "\n",
    "# excel download from DClick\n",
    "file = 'C:/Users/roh/Downloads/d5c7a4f7-b9a7-4d1e-904e-ce7349e0f27c.xlsx'\n",
    "\n",
    "# country parameter\n",
    "country = ['ALL'] # 'Korea'\n",
    "category_field1 = 2 #0\n",
    "category_field2 = 4 #1\n"
   ]
  },
  {
   "cell_type": "code",
   "execution_count": null,
   "id": "422008d9",
   "metadata": {
    "papermill": {
     "duration": null,
     "end_time": null,
     "exception": null,
     "start_time": null,
     "status": "completed"
    },
    "tags": [
     "injected-parameters"
    ]
   },
   "outputs": [],
   "source": [
    "# Parameters\n",
    "file = \"C:/Users/roh/Downloads/d5c7a4f7-b9a7-4d1e-904e-ce7349e0f27c.xlsx\"\n",
    "country = \"All\"\n"
   ]
  },
  {
   "cell_type": "code",
   "execution_count": null,
   "id": "567898b0",
   "metadata": {
    "papermill": {
     "duration": null,
     "end_time": null,
     "exception": null,
     "start_time": null,
     "status": "completed"
    },
    "tags": []
   },
   "outputs": [],
   "source": [
    "import pandas as pd\n",
    "import numpy as np\n",
    "\n",
    "# sample of excel download from DClick\n",
    "df1 = pd.read_excel(open(file, 'rb'), sheet_name='Sheet1')\n",
    "df1"
   ]
  },
  {
   "cell_type": "code",
   "execution_count": null,
   "id": "33713558",
   "metadata": {
    "papermill": {
     "duration": null,
     "end_time": null,
     "exception": null,
     "start_time": null,
     "status": "completed"
    },
    "tags": []
   },
   "outputs": [],
   "source": [
    "# tablulating subtotals dynamically in pandas table\n",
    "# https://towardsdatascience.com/tabulating-subtotals-dynamically-in-python-pandas-pivot-tables-6efadbb79be2\n",
    "\n",
    "def pivot_table_w_subtotals(df, values, indices, columns, aggfunc, fill_value):\n",
    "    '''\n",
    "    Adds tabulated subtotals to pandas pivot tables with multiple hierarchical indices.\n",
    "    \n",
    "    Args:\n",
    "    - df - dataframe used in pivot table\n",
    "    - values - values used to aggregrate\n",
    "    - indices - ordered list of indices to aggregrate by\n",
    "    - columns - columns to aggregrate by\n",
    "    - aggfunc - function used to aggregrate (np.max, np.mean, np.sum, etc)\n",
    "    - fill_value - value used to in place of empty cells\n",
    "    \n",
    "    Returns:\n",
    "    -flat table with data aggregrated and tabulated\n",
    "    \n",
    "    '''\n",
    "    listOfTable = []\n",
    "    for indexNumber in range(len(indices)):\n",
    "        n = indexNumber+1\n",
    "        table = pd.pivot_table(df,values=values,index=indices[:n],columns=columns,aggfunc=aggfunc,fill_value=fill_value).reset_index()\n",
    "        for column in indices[n:]:\n",
    "            table[column] = ''\n",
    "        listOfTable.append(table)\n",
    "    concatTable = pd.concat(listOfTable).sort_index()\n",
    "    concatTable = concatTable.set_index(keys=indices)\n",
    "    return concatTable.sort_index(axis=0,ascending=True)\n",
    "\n"
   ]
  },
  {
   "cell_type": "code",
   "execution_count": null,
   "id": "ab306fef",
   "metadata": {
    "papermill": {
     "duration": null,
     "end_time": null,
     "exception": null,
     "start_time": null,
     "status": "completed"
    },
    "tags": []
   },
   "outputs": [],
   "source": [
    "# apply pivot table to excel data\n",
    "\n",
    "df = pd.read_excel(open(file, 'rb'), sheet_name='Sheet1')\n",
    "if country[0].lower() == 'all':\n",
    "    new_table = df\n",
    "else:\n",
    "    new_table = df[df['Country'].isin(country)]\n",
    "values = list(df.columns)[4:]  # define list of key facts - from column 5 onwards\n",
    "indices = list(df.columns)[category_field1:category_field2] # define list of categorisation columns\n",
    "#columns = list(df.columns)[2:3]\n",
    "df = pivot_table_w_subtotals(df=new_table, indices=indices, columns=[], values=values, \\\n",
    "          aggfunc='sum',fill_value='')#.sort_values([('Day Net Sales (kEUR) TY')], ascending=False)\n",
    "#df.sort_values(['Country','YTD Net Sales (kEUR) TY'], ascending=[1,0], inplace=True)\n",
    "#df.sort_values(['YTD Net Sales (kEUR) TY'], ascending=[0], inplace=True)\n",
    "\n",
    "#df['equal_or_lower_than_4?'] = df['set_of_numbers'].apply(lambda x: 'True' if x <= 4 else 'False')\n",
    "#df['Day chg']=df['Day Net Sales (kEUR) LY'].apply(lambda x: df['Day Net Sales (kEUR) TY']/df['Day Net Sales (kEUR) LY']-1\n",
    "#                                                 if x!=0 else 0)\n",
    "\n",
    "df['Day chg']=df['Day Net Sales (kEUR) TY']/df['Day Net Sales (kEUR) LY']-1\n",
    "df['WTD chg']=df['WTD Net Sales (kEUR) TY']/df['WTD Net Sales (kEUR) LY']-1\n",
    "df['MTD chg']=df['MTD Net Sales (kEUR) TY']/df['MTD Net Sales (kEUR) LY']-1\n",
    "df['YTD chg']=df['YTD Net Sales (kEUR) TY']/df['YTD Net Sales (kEUR) LY']-1\n",
    "df.replace([np.inf, -np.inf], np.nan, inplace=True)\n",
    "df=df[['Day Net Sales (kEUR) TY','Day Net Sales (kEUR) LY','Day chg',\n",
    "    'WTD Net Sales (kEUR) TY','WTD Net Sales (kEUR) LY','WTD chg',\n",
    "    'MTD Net Sales (kEUR) TY','MTD Net Sales (kEUR) LY','MTD chg',\n",
    "    'YTD Net Sales (kEUR) TY','YTD Net Sales (kEUR) LY','YTD chg']]\n",
    "\n",
    "#df.crosstab()\n",
    "#df.sort_values(['Retail product L1','YTD Net Sales (kEUR) TY'], ascending=[1,0], inplace=True)\n",
    "# https://towardsdatascience.com/how-to-do-a-custom-sort-on-pandas-dataframe-ac18e7ea5320\n",
    "df.sort_values(['Retail product L1','YTD Net Sales (kEUR) TY'], ascending=[0,0], inplace=True)\n",
    "df"
   ]
  },
  {
   "cell_type": "code",
   "execution_count": null,
   "id": "0f007e17",
   "metadata": {
    "papermill": {
     "duration": null,
     "end_time": null,
     "exception": null,
     "start_time": null,
     "status": "completed"
    },
    "tags": []
   },
   "outputs": [],
   "source": [
    "# apply style sheet / formatting to table\n",
    "\n",
    "import jinja2  # pip install Jinja2\n",
    "def color_negative_red(value):\n",
    "    \"\"\"\n",
    "    Colors elements in a dateframe\n",
    "    green if positive and red if\n",
    "    negative. Does not color NaN\n",
    "    values.\n",
    "    \"\"\"\n",
    "\n",
    "    if value < 0:\n",
    "        color = 'red'\n",
    "    elif value > 0:\n",
    "        color = 'green'\n",
    "    else:\n",
    "        color = 'black'\n",
    "\n",
    "    #return 'color: %s' % color\n",
    "    return f\"color:{color};background-color:lightyellow\"\n",
    "\n",
    "def bold(val, props=''):\n",
    "    return \"font-weight:bold;color:black;background-color:darkgrey;text-align:top\"\n",
    "\n",
    "def highlight_max1(s, props=''):\n",
    "    return np.where(s != 0.0001, props, '')\n",
    "\n",
    "def highlight_max(s, props=''):\n",
    "    return [(props if 'Thailand' in s else None) for s in s.index]\n",
    "\n",
    "def color_red(val):\n",
    "    return \"color: red\"\n",
    "\n",
    "def color_third_red(value):\n",
    "    return [('color: red' if 'Third' in x else 'color: black') for x in val.index]\n",
    "\n",
    "def highlight_x(s):\n",
    "    return [\"vertical-align:text-top;\" if \"\" in v else \"\" for v in s]\n",
    "#df.style.apply_index(highlight_x, axis=\"columns\", level=[0, 1])\n",
    "\n",
    "\n",
    "\n",
    "df_style = (df.style\n",
    "    .set_caption('Daily Sales Report - ' + ', '.join(country))\n",
    "    .set_table_styles([\n",
    "    {'selector': 'caption', 'props': [('font-weight', 'bold'),('color', 'darkblue'),('font-size', '16px')]},\n",
    "    {'selector': 'th', 'props': [('border-style','solid'),('border-color','lightgrey'),('border-width','0.1px')]}\n",
    "    ])            \n",
    "    .applymap(color_negative_red, subset=[col for col in df.columns if 'chg' in col])\n",
    "    .applymap(bold, subset=slice_)\n",
    "    .apply_index(highlight_x, axis=\"index\", level=[0])\n",
    "    .format(precision=0, na_rep='na', thousands=\",\", \n",
    "            formatter={'Day chg': \"{:.0%}\",\n",
    "                       'MTD chg': \"{:.0%}\",\n",
    "                       'YTD chg': \"{:.0%}\"\n",
    "                      })    \n",
    ")\n",
    "\n",
    "\n",
    "display(df_style)\n"
   ]
  },
  {
   "cell_type": "code",
   "execution_count": null,
   "id": "7f5b79ac",
   "metadata": {
    "papermill": {
     "duration": null,
     "end_time": null,
     "exception": null,
     "start_time": null,
     "status": "completed"
    },
    "tags": []
   },
   "outputs": [],
   "source": [
    "# export entire table with style formatting as HTML code for embedding in an email template\n",
    "print(df_style.to_html())"
   ]
  },
  {
   "cell_type": "code",
   "execution_count": null,
   "id": "09a05db2",
   "metadata": {
    "papermill": {
     "duration": null,
     "end_time": null,
     "exception": null,
     "start_time": null,
     "status": "completed"
    },
    "tags": []
   },
   "outputs": [],
   "source": []
  },
  {
   "cell_type": "code",
   "execution_count": null,
   "id": "598c7ead",
   "metadata": {
    "papermill": {
     "duration": null,
     "end_time": null,
     "exception": null,
     "start_time": null,
     "status": "completed"
    },
    "tags": []
   },
   "outputs": [],
   "source": []
  },
  {
   "cell_type": "code",
   "execution_count": null,
   "id": "63f97382",
   "metadata": {
    "papermill": {
     "duration": null,
     "end_time": null,
     "exception": null,
     "start_time": null,
     "status": "completed"
    },
    "tags": []
   },
   "outputs": [],
   "source": []
  }
 ],
 "metadata": {
  "celltoolbar": "Tags",
  "kernelspec": {
   "display_name": "optimus",
   "language": "python",
   "name": "optimus"
  },
  "language_info": {
   "codemirror_mode": {
    "name": "ipython",
    "version": 3
   },
   "file_extension": ".py",
   "mimetype": "text/x-python",
   "name": "python",
   "nbconvert_exporter": "python",
   "pygments_lexer": "ipython3",
   "version": "3.10.8"
  },
  "papermill": {
   "default_parameters": {},
   "duration": 1.073509,
   "end_time": "2022-12-13T15:28:53.963758",
   "environment_variables": {},
   "exception": null,
   "input_path": "C:\\\\Users\\\\roh\\Documents\\\\python\\\\Optimus\\\\autobot\\\\DClickReport.ipynb",
   "output_path": "C:\\\\Users\\\\roh\\Documents\\\\python\\\\Optimus\\\\autobot\\\\DClickReport_output.ipynb",
   "parameters": {
    "country": "All",
    "file": "C:/Users/roh/Downloads/d5c7a4f7-b9a7-4d1e-904e-ce7349e0f27c.xlsx"
   },
   "start_time": "2022-12-13T15:28:52.890249",
   "version": "2.4.0"
  }
 },
 "nbformat": 4,
 "nbformat_minor": 5
}