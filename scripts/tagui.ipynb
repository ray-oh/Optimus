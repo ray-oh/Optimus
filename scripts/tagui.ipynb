{
 "cells": [
  {
   "cell_type": "code",
   "execution_count": 1,
   "id": "08632d26",
   "metadata": {},
   "outputs": [],
   "source": [
    "import rpa as r"
   ]
  },
  {
   "cell_type": "code",
   "execution_count": null,
   "id": "5e49b1c4",
   "metadata": {},
   "outputs": [],
   "source": [
    "import rpa as r\n",
    "r.init(visual_automation = False, chrome_browser = True, headless_mode=False)\n",
    "r.url('https://duckduckgo.com')\n",
    "r.type('//*[@name=\"q\"]', 'decentralisation[enter]')\n",
    "print('Present:', r.exist('//*[@name=\"q\"]'))\n",
    "r.wait(5) # ensure results are fully loaded\n",
    "r.snap('page', 'results.png')\n",
    "r.close()"
   ]
  },
  {
   "cell_type": "code",
   "execution_count": null,
   "id": "4c937901",
   "metadata": {},
   "outputs": [],
   "source": [
    "eval(\"1==1\")"
   ]
  },
  {
   "cell_type": "code",
   "execution_count": null,
   "id": "632e5118",
   "metadata": {},
   "outputs": [],
   "source": [
    "from datetime import datetime, timedelta\n",
    "constants = {}\n",
    "constants['now_hhmmss'] = datetime.now().strftime('%H%M%S')"
   ]
  },
  {
   "cell_type": "code",
   "execution_count": null,
   "id": "4cc88e68",
   "metadata": {},
   "outputs": [],
   "source": [
    "eval(\"constants['now_hhmmss']\")"
   ]
  },
  {
   "cell_type": "code",
   "execution_count": null,
   "id": "4ab0cd6c",
   "metadata": {},
   "outputs": [],
   "source": [
    "eval(\"datetime.now().strftime('%H%M%S')\")"
   ]
  },
  {
   "cell_type": "code",
   "execution_count": null,
   "id": "b9fd2ffd",
   "metadata": {},
   "outputs": [],
   "source": [
    "'Test'.lower()"
   ]
  },
  {
   "cell_type": "code",
   "execution_count": null,
   "id": "567ab295",
   "metadata": {},
   "outputs": [],
   "source": [
    "import re\n",
    "item = ' Eval(happy) '\n",
    "result=re.findall( r'eval\\((.*?)\\)', item.lower().strip())\n",
    "len(result)>0"
   ]
  },
  {
   "cell_type": "code",
   "execution_count": null,
   "id": "1772900e",
   "metadata": {},
   "outputs": [],
   "source": [
    "result[0]"
   ]
  },
  {
   "cell_type": "code",
   "execution_count": null,
   "id": "a3f0964e",
   "metadata": {},
   "outputs": [],
   "source": [
    "eval(\"from datetime import datetime\")"
   ]
  },
  {
   "cell_type": "code",
   "execution_count": null,
   "id": "97ff60f4",
   "metadata": {},
   "outputs": [],
   "source": [
    "eval(\"datetime.now().strftime('%h%m%s')\")"
   ]
  },
  {
   "cell_type": "code",
   "execution_count": 1,
   "id": "28edc6ec",
   "metadata": {},
   "outputs": [],
   "source": [
    "import rpa as r"
   ]
  },
  {
   "cell_type": "code",
   "execution_count": 8,
   "id": "381705e8",
   "metadata": {},
   "outputs": [
    {
     "name": "stdout",
     "output_type": "stream",
     "text": [
      "[RPA][ERROR] - use close() before using init() again\n"
     ]
    },
    {
     "data": {
      "text/plain": [
       "False"
      ]
     },
     "execution_count": 8,
     "metadata": {},
     "output_type": "execute_result"
    }
   ],
   "source": [
    "r.init()"
   ]
  },
  {
   "cell_type": "code",
   "execution_count": 6,
   "id": "6f1e139f",
   "metadata": {},
   "outputs": [
    {
     "name": "stdout",
     "output_type": "stream",
     "text": [
      "[RPA][ERROR] - use init() before using title()\n"
     ]
    },
    {
     "data": {
      "text/plain": [
       "''"
      ]
     },
     "execution_count": 6,
     "metadata": {},
     "output_type": "execute_result"
    }
   ],
   "source": [
    "r.title()"
   ]
  },
  {
   "cell_type": "code",
   "execution_count": 5,
   "id": "8f8e7407",
   "metadata": {},
   "outputs": [
    {
     "name": "stdout",
     "output_type": "stream",
     "text": [
      "[RPA][ERROR] - use init() before using url()\n"
     ]
    },
    {
     "data": {
      "text/plain": [
       "False"
      ]
     },
     "execution_count": 5,
     "metadata": {},
     "output_type": "execute_result"
    }
   ],
   "source": [
    "r.url('https://www.google.com')"
   ]
  },
  {
   "cell_type": "code",
   "execution_count": 4,
   "id": "8e7f94bc",
   "metadata": {},
   "outputs": [
    {
     "name": "stdout",
     "output_type": "stream",
     "text": [
      "[RPA][ERROR] - use init() before using close()\n"
     ]
    },
    {
     "data": {
      "text/plain": [
       "False"
      ]
     },
     "execution_count": 4,
     "metadata": {},
     "output_type": "execute_result"
    }
   ],
   "source": [
    "r.close()"
   ]
  },
  {
   "cell_type": "code",
   "execution_count": null,
   "id": "96f6dde1",
   "metadata": {},
   "outputs": [],
   "source": []
  }
 ],
 "metadata": {
  "kernelspec": {
   "display_name": "Optimus",
   "language": "python",
   "name": "optimus"
  },
  "language_info": {
   "codemirror_mode": {
    "name": "ipython",
    "version": 3
   },
   "file_extension": ".py",
   "mimetype": "text/x-python",
   "name": "python",
   "nbconvert_exporter": "python",
   "pygments_lexer": "ipython3",
   "version": "3.10.7"
  }
 },
 "nbformat": 4,
 "nbformat_minor": 5
}
