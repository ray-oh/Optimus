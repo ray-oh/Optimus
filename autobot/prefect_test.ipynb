{
 "cells": [
  {
   "cell_type": "code",
   "execution_count": 1,
   "id": "cb02e528",
   "metadata": {},
   "outputs": [
    {
     "name": "stderr",
     "output_type": "stream",
     "text": [
      "D:\\Optimus\\autobot\\venv\\lib\\site-packages\\prefect\\__init__.py:93: UserWarning: Attempted import of 'prefect.Client', which is part of Prefect 1.x, while Prefect 2.6.8 is installed. If you're upgrading you'll need to update your code, see the Prefect 2.x migration guide: `https://orion-docs.prefect.io/migration_guide/`. Otherwise ensure that your code is pinned to the expected version.\n",
      "  warnings.warn(\n"
     ]
    },
    {
     "ename": "ImportError",
     "evalue": "cannot import name 'Client' from 'prefect' (D:\\Optimus\\autobot\\venv\\lib\\site-packages\\prefect\\__init__.py)",
     "output_type": "error",
     "traceback": [
      "\u001b[1;31m---------------------------------------------------------------------------\u001b[0m",
      "\u001b[1;31mImportError\u001b[0m                               Traceback (most recent call last)",
      "Cell \u001b[1;32mIn [1], line 1\u001b[0m\n\u001b[1;32m----> 1\u001b[0m \u001b[38;5;28;01mfrom\u001b[39;00m \u001b[38;5;21;01mprefect\u001b[39;00m \u001b[38;5;28;01mimport\u001b[39;00m Client\n\u001b[0;32m      3\u001b[0m client \u001b[38;5;241m=\u001b[39m Client()\n\u001b[0;32m      5\u001b[0m list_of_flow_run_ids_to_cancel \u001b[38;5;241m=\u001b[39m []  \u001b[38;5;66;03m# result of the query\u001b[39;00m\n",
      "\u001b[1;31mImportError\u001b[0m: cannot import name 'Client' from 'prefect' (D:\\Optimus\\autobot\\venv\\lib\\site-packages\\prefect\\__init__.py)"
     ]
    }
   ],
   "source": [
    "from prefect import Client\n",
    "\n",
    "client = Client()\n",
    "\n",
    "list_of_flow_run_ids_to_cancel = []  # result of the query\n",
    "#for id_ in list_of_flow_run_ids_to_cancel:\n",
    "#    client.cancel_flow_run(flow_run_id=id_)"
   ]
  },
  {
   "cell_type": "code",
   "execution_count": 2,
   "id": "31d08b89",
   "metadata": {},
   "outputs": [],
   "source": [
    "from prefect import flow, context\n",
    "\n",
    "\n",
    "@flow\n",
    "def myflow():\n",
    "    x = context.get_run_context()\n",
    "    print(x.flow_run.deployment_id)"
   ]
  },
  {
   "cell_type": "code",
   "execution_count": 3,
   "id": "755bbb5a",
   "metadata": {},
   "outputs": [
    {
     "data": {
      "text/html": [
       "<pre style=\"white-space:pre;overflow-x:auto;line-height:normal;font-family:Menlo,'DejaVu Sans Mono',consolas,'Courier New',monospace\">21:45:50.592 | <span style=\"color: #008080; text-decoration-color: #008080\">INFO</span>    | prefect.engine - Created flow run<span style=\"color: #800080; text-decoration-color: #800080\"> 'radical-quoll'</span> for flow<span style=\"color: #800080; text-decoration-color: #800080; font-weight: bold\"> 'myflow'</span>\n",
       "</pre>\n"
      ],
      "text/plain": [
       "21:45:50.592 | \u001b[36mINFO\u001b[0m    | prefect.engine - Created flow run\u001b[35m 'radical-quoll'\u001b[0m for flow\u001b[1;35m 'myflow'\u001b[0m\n"
      ]
     },
     "metadata": {},
     "output_type": "display_data"
    },
    {
     "name": "stdout",
     "output_type": "stream",
     "text": [
      "None\n"
     ]
    },
    {
     "data": {
      "text/html": [
       "<pre style=\"white-space:pre;overflow-x:auto;line-height:normal;font-family:Menlo,'DejaVu Sans Mono',consolas,'Courier New',monospace\">21:45:50.870 | <span style=\"color: #008080; text-decoration-color: #008080\">INFO</span>    | Flow run 'radical-quoll' - Finished in state <span style=\"color: #008000; text-decoration-color: #008000\">Completed</span>()\n",
       "</pre>\n"
      ],
      "text/plain": [
       "21:45:50.870 | \u001b[36mINFO\u001b[0m    | Flow run 'radical-quoll' - Finished in state \u001b[32mCompleted\u001b[0m()\n"
      ]
     },
     "metadata": {},
     "output_type": "display_data"
    }
   ],
   "source": [
    "myflow()"
   ]
  },
  {
   "cell_type": "code",
   "execution_count": 11,
   "id": "d4e182ef",
   "metadata": {},
   "outputs": [
    {
     "name": "stderr",
     "output_type": "stream",
     "text": [
      "D:\\Optimus\\autobot\\venv\\lib\\site-packages\\prefect\\tasks.py:201: UserWarning: A task named 'print_task_context' and defined at 'C:\\Users\\svc_supplychain\\AppData\\Local\\Temp\\ipykernel_14060\\3039183522.py:4' conflicts with another task. Consider specifying a unique `name` parameter in the task definition:\n",
      "\n",
      " `@task(name='my_unique_name', ...)`\n",
      "  warnings.warn(\n",
      "D:\\Optimus\\autobot\\venv\\lib\\site-packages\\prefect\\flows.py:202: UserWarning: A flow named 'autoscheduled_test' and defined at 'C:\\Users\\svc_supplychain\\AppData\\Local\\Temp\\ipykernel_14060\\3039183522.py:8' conflicts with another flow. Consider specifying a unique `name` parameter in the flow definition:\n",
      "\n",
      " `@flow(name='my_unique_name', ...)`\n",
      "  warnings.warn(\n"
     ]
    },
    {
     "data": {
      "text/html": [
       "<pre style=\"white-space:pre;overflow-x:auto;line-height:normal;font-family:Menlo,'DejaVu Sans Mono',consolas,'Courier New',monospace\">22:30:52.913 | <span style=\"color: #008080; text-decoration-color: #008080\">INFO</span>    | prefect.engine - Created flow run<span style=\"color: #800080; text-decoration-color: #800080\"> 'cyan-swan'</span> for flow<span style=\"color: #800080; text-decoration-color: #800080; font-weight: bold\"> 'autoscheduled_test'</span>\n",
       "</pre>\n"
      ],
      "text/plain": [
       "22:30:52.913 | \u001b[36mINFO\u001b[0m    | prefect.engine - Created flow run\u001b[35m 'cyan-swan'\u001b[0m for flow\u001b[1;35m 'autoscheduled_test'\u001b[0m\n"
      ]
     },
     "metadata": {},
     "output_type": "display_data"
    },
    {
     "data": {
      "text/html": [
       "<pre style=\"white-space:pre;overflow-x:auto;line-height:normal;font-family:Menlo,'DejaVu Sans Mono',consolas,'Courier New',monospace\">22:30:53.163 | <span style=\"color: #008080; text-decoration-color: #008080\">INFO</span>    | Flow run 'cyan-swan' - Created task run 'print_task_context-cc993888-0' for task 'print_task_context'\n",
       "</pre>\n"
      ],
      "text/plain": [
       "22:30:53.163 | \u001b[36mINFO\u001b[0m    | Flow run 'cyan-swan' - Created task run 'print_task_context-cc993888-0' for task 'print_task_context'\n"
      ]
     },
     "metadata": {},
     "output_type": "display_data"
    },
    {
     "data": {
      "text/html": [
       "<pre style=\"white-space:pre;overflow-x:auto;line-height:normal;font-family:Menlo,'DejaVu Sans Mono',consolas,'Courier New',monospace\">22:30:53.178 | <span style=\"color: #008080; text-decoration-color: #008080\">INFO</span>    | Flow run 'cyan-swan' - Executing 'print_task_context-cc993888-0' immediately...\n",
       "</pre>\n"
      ],
      "text/plain": [
       "22:30:53.178 | \u001b[36mINFO\u001b[0m    | Flow run 'cyan-swan' - Executing 'print_task_context-cc993888-0' immediately...\n"
      ]
     },
     "metadata": {},
     "output_type": "display_data"
    },
    {
     "data": {
      "text/html": [
       "<pre style=\"white-space:pre;overflow-x:auto;line-height:normal;font-family:Menlo,'DejaVu Sans Mono',consolas,'Courier New',monospace\">22:30:53.307 | <span style=\"color: #008080; text-decoration-color: #008080\">INFO</span>    | Task run 'print_task_context-cc993888-0' - Finished in state <span style=\"color: #008000; text-decoration-color: #008000\">Completed</span>()\n",
       "</pre>\n"
      ],
      "text/plain": [
       "22:30:53.307 | \u001b[36mINFO\u001b[0m    | Task run 'print_task_context-cc993888-0' - Finished in state \u001b[32mCompleted\u001b[0m()\n"
      ]
     },
     "metadata": {},
     "output_type": "display_data"
    },
    {
     "name": "stdout",
     "output_type": "stream",
     "text": [
      "Flow run scheduled through a deployment?\n",
      "False\n"
     ]
    },
    {
     "data": {
      "text/html": [
       "<pre style=\"white-space:pre;overflow-x:auto;line-height:normal;font-family:Menlo,'DejaVu Sans Mono',consolas,'Courier New',monospace\">22:30:53.363 | <span style=\"color: #008080; text-decoration-color: #008080\">INFO</span>    | Flow run 'cyan-swan' - Finished in state <span style=\"color: #008000; text-decoration-color: #008000\">Completed</span>('All states completed.')\n",
       "</pre>\n"
      ],
      "text/plain": [
       "22:30:53.363 | \u001b[36mINFO\u001b[0m    | Flow run 'cyan-swan' - Finished in state \u001b[32mCompleted\u001b[0m('All states completed.')\n"
      ]
     },
     "metadata": {},
     "output_type": "display_data"
    }
   ],
   "source": [
    "import prefect\n",
    "from prefect import task, flow\n",
    "\n",
    "@task\n",
    "def print_task_context():\n",
    "    pass\n",
    "\n",
    "@flow(name=\"autoscheduled_test\")\n",
    "def main_flow():\n",
    "    print_task_context()\n",
    "    print(\"Flow run scheduled through a deployment?\")\n",
    "    print(prefect.context.get_run_context().flow_run.auto_scheduled)\n",
    "\n",
    "if __name__ == \"__main__\":\n",
    "    main_flow()"
   ]
  },
  {
   "cell_type": "code",
   "execution_count": 5,
   "id": "0368ea9d",
   "metadata": {},
   "outputs": [
    {
     "name": "stderr",
     "output_type": "stream",
     "text": [
      "D:\\Optimus\\autobot\\venv\\lib\\site-packages\\prefect\\tasks.py:201: UserWarning: A task named 'print_task_context' and defined at 'C:\\Users\\svc_supplychain\\AppData\\Local\\Temp\\ipykernel_14060\\3928587012.py:5' conflicts with another task. Consider specifying a unique `name` parameter in the task definition:\n",
      "\n",
      " `@task(name='my_unique_name', ...)`\n",
      "  warnings.warn(\n"
     ]
    },
    {
     "data": {
      "text/html": [
       "<pre style=\"white-space:pre;overflow-x:auto;line-height:normal;font-family:Menlo,'DejaVu Sans Mono',consolas,'Courier New',monospace\">21:48:37.462 | <span style=\"color: #008080; text-decoration-color: #008080\">INFO</span>    | prefect.engine - Created flow run<span style=\"color: #800080; text-decoration-color: #800080\"> 'gleaming-panda'</span> for flow<span style=\"color: #800080; text-decoration-color: #800080; font-weight: bold\"> 'main-flow'</span>\n",
       "</pre>\n"
      ],
      "text/plain": [
       "21:48:37.462 | \u001b[36mINFO\u001b[0m    | prefect.engine - Created flow run\u001b[35m 'gleaming-panda'\u001b[0m for flow\u001b[1;35m 'main-flow'\u001b[0m\n"
      ]
     },
     "metadata": {},
     "output_type": "display_data"
    },
    {
     "data": {
      "text/html": [
       "<pre style=\"white-space:pre;overflow-x:auto;line-height:normal;font-family:Menlo,'DejaVu Sans Mono',consolas,'Courier New',monospace\">21:48:37.712 | <span style=\"color: #008080; text-decoration-color: #008080\">INFO</span>    | Flow run 'gleaming-panda' - Created task run 'print_task_context-cc993888-0' for task 'print_task_context'\n",
       "</pre>\n"
      ],
      "text/plain": [
       "21:48:37.712 | \u001b[36mINFO\u001b[0m    | Flow run 'gleaming-panda' - Created task run 'print_task_context-cc993888-0' for task 'print_task_context'\n"
      ]
     },
     "metadata": {},
     "output_type": "display_data"
    },
    {
     "data": {
      "text/html": [
       "<pre style=\"white-space:pre;overflow-x:auto;line-height:normal;font-family:Menlo,'DejaVu Sans Mono',consolas,'Courier New',monospace\">21:48:37.728 | <span style=\"color: #008080; text-decoration-color: #008080\">INFO</span>    | Flow run 'gleaming-panda' - Executing 'print_task_context-cc993888-0' immediately...\n",
       "</pre>\n"
      ],
      "text/plain": [
       "21:48:37.728 | \u001b[36mINFO\u001b[0m    | Flow run 'gleaming-panda' - Executing 'print_task_context-cc993888-0' immediately...\n"
      ]
     },
     "metadata": {},
     "output_type": "display_data"
    },
    {
     "name": "stdout",
     "output_type": "stream",
     "text": [
      "Task run context:\n",
      "{'id': UUID('1c7663bb-9769-4e0e-b3a6-54ea0f2be165'), 'created': DateTime(2022, 11, 23, 13, 48, 37, 665902, tzinfo=Timezone('+00:00')), 'updated': DateTime(2022, 11, 23, 13, 48, 37, 766000, tzinfo=Timezone('+00:00')), 'name': 'print_task_context-cc993888-0', 'flow_run_id': UUID('570ded58-1a7c-4e08-ae19-9e8f9df68e4d'), 'task_key': '__main__.print_task_context', 'dynamic_key': '0', 'cache_key': None, 'cache_expiration': None, 'task_version': None, 'empirical_policy': {'max_retries': 0, 'retry_delay_seconds': 0.0, 'retries': 0, 'retry_delay': 0}, 'tags': [], 'state_id': UUID('58bca37b-3624-41ff-989a-1e91e55dae0d'), 'task_inputs': {}, 'state_type': StateType.RUNNING, 'state_name': 'Running', 'run_count': 1, 'flow_run_run_count': 1, 'expected_start_time': DateTime(2022, 11, 23, 13, 48, 37, 665902, tzinfo=Timezone('+00:00')), 'next_scheduled_start_time': None, 'start_time': DateTime(2022, 11, 23, 13, 48, 37, 737889, tzinfo=Timezone('+00:00')), 'end_time': None, 'total_run_time': datetime.timedelta(0), 'estimated_run_time': datetime.timedelta(microseconds=67154), 'estimated_start_time_delta': datetime.timedelta(microseconds=71987), 'state': {'id': UUID('58bca37b-3624-41ff-989a-1e91e55dae0d'), 'type': StateType.RUNNING, 'name': 'Running', 'timestamp': DateTime(2022, 11, 23, 13, 48, 37, 737889, tzinfo=Timezone('+00:00')), 'message': None, 'state_details': {'flow_run_id': UUID('570ded58-1a7c-4e08-ae19-9e8f9df68e4d'), 'task_run_id': UUID('1c7663bb-9769-4e0e-b3a6-54ea0f2be165'), 'child_flow_run_id': None, 'scheduled_time': None, 'cache_key': None, 'cache_expiration': None, 'untrackable_result': False}, 'data': None}}\n"
     ]
    },
    {
     "data": {
      "text/html": [
       "<pre style=\"white-space:pre;overflow-x:auto;line-height:normal;font-family:Menlo,'DejaVu Sans Mono',consolas,'Courier New',monospace\">21:48:37.855 | <span style=\"color: #008080; text-decoration-color: #008080\">INFO</span>    | Task run 'print_task_context-cc993888-0' - Finished in state <span style=\"color: #008000; text-decoration-color: #008000\">Completed</span>()\n",
       "</pre>\n"
      ],
      "text/plain": [
       "21:48:37.855 | \u001b[36mINFO\u001b[0m    | Task run 'print_task_context-cc993888-0' - Finished in state \u001b[32mCompleted\u001b[0m()\n"
      ]
     },
     "metadata": {},
     "output_type": "display_data"
    },
    {
     "name": "stdout",
     "output_type": "stream",
     "text": [
      "Flow run context:\n",
      "{'id': UUID('570ded58-1a7c-4e08-ae19-9e8f9df68e4d'), 'created': DateTime(2022, 11, 23, 13, 48, 37, 416433, tzinfo=Timezone('+00:00')), 'updated': DateTime(2022, 11, 23, 13, 48, 37, 619000, tzinfo=Timezone('+00:00')), 'name': 'gleaming-panda', 'flow_id': UUID('093835d3-0653-41d2-be15-09f6ba692eb5'), 'state_id': UUID('615f527c-9050-4b59-840e-b2c05509a11d'), 'deployment_id': None, 'work_queue_name': None, 'flow_version': None, 'parameters': {}, 'idempotency_key': None, 'context': {}, 'empirical_policy': {'max_retries': 0, 'retry_delay_seconds': 0.0, 'retries': 0, 'retry_delay': 0}, 'tags': [], 'parent_task_run_id': None, 'state_type': StateType.RUNNING, 'state_name': 'Running', 'run_count': 1, 'expected_start_time': DateTime(2022, 11, 23, 13, 48, 37, 416433, tzinfo=Timezone('+00:00')), 'next_scheduled_start_time': None, 'start_time': DateTime(2022, 11, 23, 13, 48, 37, 603548, tzinfo=Timezone('+00:00')), 'end_time': None, 'total_run_time': datetime.timedelta(0), 'estimated_run_time': datetime.timedelta(microseconds=46828), 'estimated_start_time_delta': datetime.timedelta(microseconds=187115), 'auto_scheduled': False, 'infrastructure_document_id': None, 'created_by': None, 'state': {'id': UUID('615f527c-9050-4b59-840e-b2c05509a11d'), 'type': StateType.RUNNING, 'name': 'Running', 'timestamp': DateTime(2022, 11, 23, 13, 48, 37, 603548, tzinfo=Timezone('+00:00')), 'message': None, 'state_details': {'flow_run_id': UUID('570ded58-1a7c-4e08-ae19-9e8f9df68e4d'), 'task_run_id': None, 'child_flow_run_id': None, 'scheduled_time': None, 'cache_key': None, 'cache_expiration': None, 'untrackable_result': False}, 'data': None}}\n"
     ]
    },
    {
     "data": {
      "text/html": [
       "<pre style=\"white-space:pre;overflow-x:auto;line-height:normal;font-family:Menlo,'DejaVu Sans Mono',consolas,'Courier New',monospace\">21:48:37.909 | <span style=\"color: #008080; text-decoration-color: #008080\">INFO</span>    | Flow run 'gleaming-panda' - Finished in state <span style=\"color: #008000; text-decoration-color: #008000\">Completed</span>('All states completed.')\n",
       "</pre>\n"
      ],
      "text/plain": [
       "21:48:37.909 | \u001b[36mINFO\u001b[0m    | Flow run 'gleaming-panda' - Finished in state \u001b[32mCompleted\u001b[0m('All states completed.')\n"
      ]
     },
     "metadata": {},
     "output_type": "display_data"
    }
   ],
   "source": [
    "import prefect\n",
    "from prefect import task, flow\n",
    "\n",
    "\n",
    "@task\n",
    "def print_task_context():\n",
    "    print(\"Task run context:\")\n",
    "    print(prefect.context.get_run_context().task_run.dict())\n",
    "\n",
    "\n",
    "@flow\n",
    "def main_flow():\n",
    "    print_task_context()\n",
    "    print(\"Flow run context:\")\n",
    "    print(prefect.context.get_run_context().flow_run.dict())\n",
    "\n",
    "\n",
    "if __name__ == \"__main__\":\n",
    "    main_flow()"
   ]
  },
  {
   "cell_type": "code",
   "execution_count": 7,
   "id": "98e6badb",
   "metadata": {},
   "outputs": [
    {
     "ename": "ImportError",
     "evalue": "cannot import name 'Client' from 'prefect.client' (D:\\Optimus\\autobot\\venv\\lib\\site-packages\\prefect\\client\\__init__.py)",
     "output_type": "error",
     "traceback": [
      "\u001b[1;31m---------------------------------------------------------------------------\u001b[0m",
      "\u001b[1;31mImportError\u001b[0m                               Traceback (most recent call last)",
      "Cell \u001b[1;32mIn [7], line 1\u001b[0m\n\u001b[1;32m----> 1\u001b[0m \u001b[38;5;28;01mfrom\u001b[39;00m \u001b[38;5;21;01mprefect\u001b[39;00m\u001b[38;5;21;01m.\u001b[39;00m\u001b[38;5;21;01mclient\u001b[39;00m \u001b[38;5;28;01mimport\u001b[39;00m Client\n\u001b[0;32m      2\u001b[0m \u001b[38;5;28;01mimport\u001b[39;00m \u001b[38;5;21;01mprefect\u001b[39;00m\n\u001b[0;32m      3\u001b[0m \u001b[38;5;28;01mimport\u001b[39;00m \u001b[38;5;21;01mtime\u001b[39;00m\n",
      "\u001b[1;31mImportError\u001b[0m: cannot import name 'Client' from 'prefect.client' (D:\\Optimus\\autobot\\venv\\lib\\site-packages\\prefect\\client\\__init__.py)"
     ]
    }
   ],
   "source": [
    "from prefect.client import Client\n",
    "import prefect\n",
    "import time\n",
    "\n",
    "def cancel_runs_for_flow(version_group_id: str) -> None:\n",
    "    c = Client()\n",
    "    query = c.graphql(\n",
    "        \"\\n\".join(\n",
    "            [\n",
    "                \"query {\",\n",
    "                \"      flow_run(where: {\",\n",
    "                \"          _and: {\",\n",
    "                f'            flow: {{version_group_id: {{_eq: \"{version_group_id}\"}}}}',\n",
    "                \"            state: {\",\n",
    "                \"              _in: [\",\n",
    "                '                  \"Pending\", \"Running\", \"Submitted\"]',\n",
    "                \"            }\",\n",
    "                \"          }\",\n",
    "                \"          }\",\n",
    "                \"        ) {\",\n",
    "                \"      id\",\n",
    "                \"    }}\",\n",
    "            ]\n",
    "        )\n",
    "    )\n",
    "\n",
    "    result = query.get(\"data\").get(\"flow_run\")\n",
    "    id_list = list()\n",
    "    print(\"Fetched flows\")\n",
    "    for i in result:\n",
    "        flow_id = i[\"id\"]\n",
    "        state = prefect.engine.state.Cancelled()\n",
    "        version = None\n",
    "        print(i)\n",
    "        time.sleep(1)\n",
    "        c.set_flow_run_state(flow_run_id=flow_id, state=state)"
   ]
  },
  {
   "cell_type": "code",
   "execution_count": 8,
   "id": "dc6939f0",
   "metadata": {},
   "outputs": [
    {
     "ename": "ModuleNotFoundError",
     "evalue": "No module named 'pytest'",
     "output_type": "error",
     "traceback": [
      "\u001b[1;31m---------------------------------------------------------------------------\u001b[0m",
      "\u001b[1;31mModuleNotFoundError\u001b[0m                       Traceback (most recent call last)",
      "Cell \u001b[1;32mIn [8], line 1\u001b[0m\n\u001b[1;32m----> 1\u001b[0m \u001b[38;5;28;01mimport\u001b[39;00m \u001b[38;5;21;01mpytest\u001b[39;00m\n\u001b[0;32m      2\u001b[0m \u001b[38;5;28;01mfrom\u001b[39;00m \u001b[38;5;21;01mprefect\u001b[39;00m \u001b[38;5;28;01mimport\u001b[39;00m flow\n\u001b[0;32m      3\u001b[0m \u001b[38;5;28;01mfrom\u001b[39;00m \u001b[38;5;21;01mmodule\u001b[39;00m \u001b[38;5;28;01mimport\u001b[39;00m divide_task\n",
      "\u001b[1;31mModuleNotFoundError\u001b[0m: No module named 'pytest'"
     ]
    }
   ],
   "source": [
    "import pytest\n",
    "from prefect import flow\n",
    "from module import divide_task\n",
    "\n",
    "def test_divide_task():\n",
    "    @flow\n",
    "    def test_flow():\n",
    "        return divide_task(1, 2)\n",
    "    task_state = test_flow().result()\n",
    "    actual = task_state.result()\n",
    "    assert actual == 0.5 \n",
    "    "
   ]
  },
  {
   "cell_type": "code",
   "execution_count": 22,
   "id": "1428a181",
   "metadata": {},
   "outputs": [
    {
     "ename": "ImportError",
     "evalue": "cannot import name 'read_flows' from 'prefect.client.orion' (D:\\Optimus\\autobot\\venv\\lib\\site-packages\\prefect\\client\\orion.py)",
     "output_type": "error",
     "traceback": [
      "\u001b[1;31m---------------------------------------------------------------------------\u001b[0m",
      "\u001b[1;31mImportError\u001b[0m                               Traceback (most recent call last)",
      "Cell \u001b[1;32mIn [22], line 1\u001b[0m\n\u001b[1;32m----> 1\u001b[0m \u001b[38;5;28;01mfrom\u001b[39;00m \u001b[38;5;21;01mprefect\u001b[39;00m\u001b[38;5;21;01m.\u001b[39;00m\u001b[38;5;21;01mclient\u001b[39;00m\u001b[38;5;21;01m.\u001b[39;00m\u001b[38;5;21;01morion\u001b[39;00m \u001b[38;5;28;01mimport\u001b[39;00m get_client, read_flows\n\u001b[0;32m      2\u001b[0m \u001b[38;5;28;01masync\u001b[39;00m \u001b[38;5;28;01mwith\u001b[39;00m get_client() \u001b[38;5;28;01mas\u001b[39;00m client:\n\u001b[0;32m      3\u001b[0m     response \u001b[38;5;241m=\u001b[39m \u001b[38;5;28;01mawait\u001b[39;00m client\u001b[38;5;241m.\u001b[39mhello()\n",
      "\u001b[1;31mImportError\u001b[0m: cannot import name 'read_flows' from 'prefect.client.orion' (D:\\Optimus\\autobot\\venv\\lib\\site-packages\\prefect\\client\\orion.py)"
     ]
    }
   ],
   "source": [
    "from prefect.client.orion import get_client, read_flows\n",
    "async with get_client() as client:\n",
    "    response = await client.hello()\n",
    "\n",
    "print(response.json())\n"
   ]
  },
  {
   "cell_type": "code",
   "execution_count": 29,
   "id": "d2037440",
   "metadata": {},
   "outputs": [
    {
     "data": {
      "text/plain": [
       "<function prefect.orion.api.flows.read_flows(limit: int = Depends(get_limit), offset: int = Body(0), flows: prefect.orion.schemas.filters.FlowFilter = None, flow_runs: prefect.orion.schemas.filters.FlowRunFilter = None, task_runs: prefect.orion.schemas.filters.TaskRunFilter = None, deployments: prefect.orion.schemas.filters.DeploymentFilter = None, sort: prefect.orion.schemas.sorting.FlowSort = Body(NAME_ASC), db: prefect.orion.database.interface.OrionDBInterface = Depends(provide_database_interface)) -> List[prefect.orion.schemas.core.Flow]>"
      ]
     },
     "execution_count": 29,
     "metadata": {},
     "output_type": "execute_result"
    }
   ],
   "source": [
    "from prefect.orion.api import flows\n",
    "#async with flows() as flow:\n",
    "#    response = await flow.read_flows()\n",
    "##flows.read_flows\n",
    "#print(response.json())\n",
    "flows.read_flows"
   ]
  },
  {
   "cell_type": "code",
   "execution_count": 15,
   "id": "3529b5dc",
   "metadata": {},
   "outputs": [],
   "source": [
    "from prefect.orion.api.server import create_app\n",
    "\n",
    "app = create_app()\n",
    "openapi_doc = app.openapi()"
   ]
  },
  {
   "cell_type": "code",
   "execution_count": 16,
   "id": "06fb2bf0",
   "metadata": {},
   "outputs": [],
   "source": [
    "from prefect.orion.api import flow_runs"
   ]
  },
  {
   "cell_type": "code",
   "execution_count": 19,
   "id": "9d0b8ab8",
   "metadata": {},
   "outputs": [
    {
     "data": {
      "text/plain": [
       "<function prefect.orion.api.flow_runs.count_flow_runs(flows: prefect.orion.schemas.filters.FlowFilter = None, flow_runs: prefect.orion.schemas.filters.FlowRunFilter = None, task_runs: prefect.orion.schemas.filters.TaskRunFilter = None, deployments: prefect.orion.schemas.filters.DeploymentFilter = None, db: prefect.orion.database.interface.OrionDBInterface = Depends(provide_database_interface)) -> int>"
      ]
     },
     "execution_count": 19,
     "metadata": {},
     "output_type": "execute_result"
    }
   ],
   "source": [
    "flow_runs.count_flow_runs"
   ]
  },
  {
   "cell_type": "code",
   "execution_count": 34,
   "id": "0901bd8d",
   "metadata": {},
   "outputs": [
    {
     "name": "stderr",
     "output_type": "stream",
     "text": [
      "D:\\Optimus\\autobot\\venv\\lib\\site-packages\\prefect\\tasks.py:201: UserWarning: A task named 'my_task' and defined at 'C:\\Users\\svc_supplychain\\AppData\\Local\\Temp\\ipykernel_14060\\2997555199.py:5' conflicts with another task. Consider specifying a unique `name` parameter in the task definition:\n",
      "\n",
      " `@task(name='my_unique_name', ...)`\n",
      "  warnings.warn(\n",
      "D:\\Optimus\\autobot\\venv\\lib\\site-packages\\prefect\\flows.py:202: UserWarning: A flow named 'my-flow' and defined at 'C:\\Users\\svc_supplychain\\AppData\\Local\\Temp\\ipykernel_14060\\2997555199.py:10' conflicts with another flow. Consider specifying a unique `name` parameter in the flow definition:\n",
      "\n",
      " `@flow(name='my_unique_name', ...)`\n",
      "  warnings.warn(\n"
     ]
    },
    {
     "data": {
      "text/html": [
       "<pre style=\"white-space:pre;overflow-x:auto;line-height:normal;font-family:Menlo,'DejaVu Sans Mono',consolas,'Courier New',monospace\">23:08:49.778 | <span style=\"color: #008080; text-decoration-color: #008080\">INFO</span>    | prefect.engine - Created flow run<span style=\"color: #800080; text-decoration-color: #800080\"> 'gifted-viper'</span> for flow<span style=\"color: #800080; text-decoration-color: #800080; font-weight: bold\"> 'my-flow'</span>\n",
       "</pre>\n"
      ],
      "text/plain": [
       "23:08:49.778 | \u001b[36mINFO\u001b[0m    | prefect.engine - Created flow run\u001b[35m 'gifted-viper'\u001b[0m for flow\u001b[1;35m 'my-flow'\u001b[0m\n"
      ]
     },
     "metadata": {},
     "output_type": "display_data"
    },
    {
     "data": {
      "text/html": [
       "<pre style=\"white-space:pre;overflow-x:auto;line-height:normal;font-family:Menlo,'DejaVu Sans Mono',consolas,'Courier New',monospace\">23:08:50.043 | <span style=\"color: #008080; text-decoration-color: #008080\">INFO</span>    | Flow run 'gifted-viper' - Created task run 'my_task-20c6ece6-0' for task 'my_task'\n",
       "</pre>\n"
      ],
      "text/plain": [
       "23:08:50.043 | \u001b[36mINFO\u001b[0m    | Flow run 'gifted-viper' - Created task run 'my_task-20c6ece6-0' for task 'my_task'\n"
      ]
     },
     "metadata": {},
     "output_type": "display_data"
    },
    {
     "data": {
      "text/html": [
       "<pre style=\"white-space:pre;overflow-x:auto;line-height:normal;font-family:Menlo,'DejaVu Sans Mono',consolas,'Courier New',monospace\">23:08:50.043 | <span style=\"color: #008080; text-decoration-color: #008080\">INFO</span>    | Flow run 'gifted-viper' - Submitted task run 'my_task-20c6ece6-0' for execution.\n",
       "</pre>\n"
      ],
      "text/plain": [
       "23:08:50.043 | \u001b[36mINFO\u001b[0m    | Flow run 'gifted-viper' - Submitted task run 'my_task-20c6ece6-0' for execution.\n"
      ]
     },
     "metadata": {},
     "output_type": "display_data"
    },
    {
     "data": {
      "text/html": [
       "<pre style=\"white-space:pre;overflow-x:auto;line-height:normal;font-family:Menlo,'DejaVu Sans Mono',consolas,'Courier New',monospace\">23:08:53.033 | <span style=\"color: #008080; text-decoration-color: #008080\">INFO</span>    | Flow run 'gifted-viper' - The task is canceled because it takes too long to run\n",
       "</pre>\n"
      ],
      "text/plain": [
       "23:08:53.033 | \u001b[36mINFO\u001b[0m    | Flow run 'gifted-viper' - The task is canceled because it takes too long to run\n"
      ]
     },
     "metadata": {},
     "output_type": "display_data"
    },
    {
     "data": {
      "text/html": [
       "<pre style=\"white-space:pre;overflow-x:auto;line-height:normal;font-family:Menlo,'DejaVu Sans Mono',consolas,'Courier New',monospace\">23:08:54.669 | <span style=\"color: #008080; text-decoration-color: #008080\">INFO</span>    | Task run 'my_task-20c6ece6-0' - Finished in state <span style=\"color: #008000; text-decoration-color: #008000\">Completed</span>()\n",
       "</pre>\n"
      ],
      "text/plain": [
       "23:08:54.669 | \u001b[36mINFO\u001b[0m    | Task run 'my_task-20c6ece6-0' - Finished in state \u001b[32mCompleted\u001b[0m()\n"
      ]
     },
     "metadata": {},
     "output_type": "display_data"
    },
    {
     "data": {
      "text/html": [
       "<pre style=\"white-space:pre;overflow-x:auto;line-height:normal;font-family:Menlo,'DejaVu Sans Mono',consolas,'Courier New',monospace\">23:08:54.723 | <span style=\"color: #008080; text-decoration-color: #008080\">INFO</span>    | Flow run 'gifted-viper' - Finished in state <span style=\"color: #008000; text-decoration-color: #008000\">Completed</span>('All states completed.')\n",
       "</pre>\n"
      ],
      "text/plain": [
       "23:08:54.723 | \u001b[36mINFO\u001b[0m    | Flow run 'gifted-viper' - Finished in state \u001b[32mCompleted\u001b[0m('All states completed.')\n"
      ]
     },
     "metadata": {},
     "output_type": "display_data"
    }
   ],
   "source": [
    "from prefect import flow, task, get_run_logger\n",
    "from time import sleep\n",
    "\n",
    "\n",
    "@task\n",
    "def my_task():\n",
    "    sleep(1)\n",
    "    return 1\n",
    "\n",
    "@flow\n",
    "def my_flow():\n",
    "    final_state = my_task.submit().wait(3)\n",
    "    logger = get_run_logger()\n",
    "    if final_state:\n",
    "        logger.info(\"The task is done\")\n",
    "\n",
    "    else:\n",
    "        logger.info(\"The task is canceled because it takes too long to run\")\n",
    "\n",
    "\n",
    "if __name__ == \"__main__\":\n",
    "    my_flow()"
   ]
  },
  {
   "cell_type": "code",
   "execution_count": 35,
   "id": "9d31a18b",
   "metadata": {},
   "outputs": [
    {
     "name": "stderr",
     "output_type": "stream",
     "text": [
      "D:\\Optimus\\autobot\\venv\\lib\\site-packages\\prefect\\flows.py:202: UserWarning: A flow named 'main-flow' and defined at 'C:\\Users\\svc_supplychain\\AppData\\Local\\Temp\\ipykernel_14060\\1500036119.py:20' conflicts with another flow. Consider specifying a unique `name` parameter in the flow definition:\n",
      "\n",
      " `@flow(name='my_unique_name', ...)`\n",
      "  warnings.warn(\n"
     ]
    },
    {
     "data": {
      "text/html": [
       "<pre style=\"white-space:pre;overflow-x:auto;line-height:normal;font-family:Menlo,'DejaVu Sans Mono',consolas,'Courier New',monospace\">23:14:10.436 | <span style=\"color: #008080; text-decoration-color: #008080\">INFO</span>    | prefect.engine - Created flow run<span style=\"color: #800080; text-decoration-color: #800080\"> 'khaki-ibex'</span> for flow<span style=\"color: #800080; text-decoration-color: #800080; font-weight: bold\"> 'main-flow'</span>\n",
       "</pre>\n"
      ],
      "text/plain": [
       "23:14:10.436 | \u001b[36mINFO\u001b[0m    | prefect.engine - Created flow run\u001b[35m 'khaki-ibex'\u001b[0m for flow\u001b[1;35m 'main-flow'\u001b[0m\n"
      ]
     },
     "metadata": {},
     "output_type": "display_data"
    },
    {
     "data": {
      "text/html": [
       "<pre style=\"white-space:pre;overflow-x:auto;line-height:normal;font-family:Menlo,'DejaVu Sans Mono',consolas,'Courier New',monospace\">23:14:10.701 | <span style=\"color: #008080; text-decoration-color: #008080\">INFO</span>    | Flow run 'khaki-ibex' - Created task run 'fail_successfully-7e6cd35d-0' for task 'fail_successfully'\n",
       "</pre>\n"
      ],
      "text/plain": [
       "23:14:10.701 | \u001b[36mINFO\u001b[0m    | Flow run 'khaki-ibex' - Created task run 'fail_successfully-7e6cd35d-0' for task 'fail_successfully'\n"
      ]
     },
     "metadata": {},
     "output_type": "display_data"
    },
    {
     "data": {
      "text/html": [
       "<pre style=\"white-space:pre;overflow-x:auto;line-height:normal;font-family:Menlo,'DejaVu Sans Mono',consolas,'Courier New',monospace\">23:14:10.701 | <span style=\"color: #008080; text-decoration-color: #008080\">INFO</span>    | Flow run 'khaki-ibex' - Submitted task run 'fail_successfully-7e6cd35d-0' for execution.\n",
       "</pre>\n"
      ],
      "text/plain": [
       "23:14:10.701 | \u001b[36mINFO\u001b[0m    | Flow run 'khaki-ibex' - Submitted task run 'fail_successfully-7e6cd35d-0' for execution.\n"
      ]
     },
     "metadata": {},
     "output_type": "display_data"
    },
    {
     "data": {
      "text/html": [
       "<pre style=\"white-space:pre;overflow-x:auto;line-height:normal;font-family:Menlo,'DejaVu Sans Mono',consolas,'Courier New',monospace\">23:14:11.968 | <span style=\"color: #d70000; text-decoration-color: #d70000\">ERROR</span>   | Task run 'fail_successfully-7e6cd35d-0' - Encountered exception during execution:\n",
       "Traceback (most recent call last):\n",
       "  File \"D:\\Optimus\\autobot\\venv\\lib\\site-packages\\prefect\\engine.py\", line 1239, in orchestrate_task_run\n",
       "    result = await run_sync(task.fn, *args, **kwargs)\n",
       "  File \"D:\\Optimus\\autobot\\venv\\lib\\site-packages\\prefect\\utilities\\asyncutils.py\", line 68, in run_sync_in_worker_thread\n",
       "    return await anyio.to_thread.run_sync(call, cancellable=True)\n",
       "  File \"D:\\Optimus\\autobot\\venv\\lib\\site-packages\\anyio\\to_thread.py\", line 31, in run_sync\n",
       "    return await get_asynclib().run_sync_in_worker_thread(\n",
       "  File \"D:\\Optimus\\autobot\\venv\\lib\\site-packages\\anyio\\_backends\\_asyncio.py\", line 937, in run_sync_in_worker_thread\n",
       "    return await future\n",
       "  File \"D:\\Optimus\\autobot\\venv\\lib\\site-packages\\anyio\\_backends\\_asyncio.py\", line 867, in run\n",
       "    result = context.run(func, *args)\n",
       "  File \"C:\\Users\\svc_supplychain\\AppData\\Local\\Temp\\ipykernel_14060\\1500036119.py\", line 18, in fail_successfully\n",
       "    return 1 / x\n",
       "ZeroDivisionError: division by zero\n",
       "</pre>\n"
      ],
      "text/plain": [
       "23:14:11.968 | \u001b[38;5;160mERROR\u001b[0m   | Task run 'fail_successfully-7e6cd35d-0' - Encountered exception during execution:\n",
       "Traceback (most recent call last):\n",
       "  File \"D:\\Optimus\\autobot\\venv\\lib\\site-packages\\prefect\\engine.py\", line 1239, in orchestrate_task_run\n",
       "    result = await run_sync(task.fn, *args, **kwargs)\n",
       "  File \"D:\\Optimus\\autobot\\venv\\lib\\site-packages\\prefect\\utilities\\asyncutils.py\", line 68, in run_sync_in_worker_thread\n",
       "    return await anyio.to_thread.run_sync(call, cancellable=True)\n",
       "  File \"D:\\Optimus\\autobot\\venv\\lib\\site-packages\\anyio\\to_thread.py\", line 31, in run_sync\n",
       "    return await get_asynclib().run_sync_in_worker_thread(\n",
       "  File \"D:\\Optimus\\autobot\\venv\\lib\\site-packages\\anyio\\_backends\\_asyncio.py\", line 937, in run_sync_in_worker_thread\n",
       "    return await future\n",
       "  File \"D:\\Optimus\\autobot\\venv\\lib\\site-packages\\anyio\\_backends\\_asyncio.py\", line 867, in run\n",
       "    result = context.run(func, *args)\n",
       "  File \"C:\\Users\\svc_supplychain\\AppData\\Local\\Temp\\ipykernel_14060\\1500036119.py\", line 18, in fail_successfully\n",
       "    return 1 / x\n",
       "ZeroDivisionError: division by zero\n"
      ]
     },
     "metadata": {},
     "output_type": "display_data"
    },
    {
     "data": {
      "text/html": [
       "<pre style=\"white-space:pre;overflow-x:auto;line-height:normal;font-family:Menlo,'DejaVu Sans Mono',consolas,'Courier New',monospace\">23:14:12.656 | <span style=\"color: #d70000; text-decoration-color: #d70000\">ERROR</span>   | Task run 'fail_successfully-7e6cd35d-0' - Finished in state <span style=\"color: #d70000; text-decoration-color: #d70000\">Failed</span>('Task run encountered an exception: ZeroDivisionError: division by zero\\n')\n",
       "</pre>\n"
      ],
      "text/plain": [
       "23:14:12.656 | \u001b[38;5;160mERROR\u001b[0m   | Task run 'fail_successfully-7e6cd35d-0' - Finished in state \u001b[38;5;160mFailed\u001b[0m('Task run encountered an exception: ZeroDivisionError: division by zero\\n')\n"
      ]
     },
     "metadata": {},
     "output_type": "display_data"
    },
    {
     "name": "stdout",
     "output_type": "stream",
     "text": [
      "test\n"
     ]
    },
    {
     "data": {
      "text/html": [
       "<pre style=\"white-space:pre;overflow-x:auto;line-height:normal;font-family:Menlo,'DejaVu Sans Mono',consolas,'Courier New',monospace\">23:14:12.730 | <span style=\"color: #d70000; text-decoration-color: #d70000\">ERROR</span>   | Flow run 'khaki-ibex' - Finished in state <span style=\"color: #d70000; text-decoration-color: #d70000\">Failed</span>('1/1 states failed.')\n",
       "</pre>\n"
      ],
      "text/plain": [
       "23:14:12.730 | \u001b[38;5;160mERROR\u001b[0m   | Flow run 'khaki-ibex' - Finished in state \u001b[38;5;160mFailed\u001b[0m('1/1 states failed.')\n"
      ]
     },
     "metadata": {},
     "output_type": "display_data"
    },
    {
     "ename": "ZeroDivisionError",
     "evalue": "division by zero",
     "output_type": "error",
     "traceback": [
      "\u001b[1;31m---------------------------------------------------------------------------\u001b[0m",
      "\u001b[1;31mZeroDivisionError\u001b[0m                         Traceback (most recent call last)",
      "Cell \u001b[1;32mIn [35], line 26\u001b[0m\n\u001b[0;32m     23\u001b[0m     send_slack_alert_on_failure(future_obj)\n\u001b[0;32m     25\u001b[0m \u001b[38;5;28;01mif\u001b[39;00m \u001b[38;5;18m__name__\u001b[39m \u001b[38;5;241m==\u001b[39m \u001b[38;5;124m\"\u001b[39m\u001b[38;5;124m__main__\u001b[39m\u001b[38;5;124m\"\u001b[39m:\n\u001b[1;32m---> 26\u001b[0m     \u001b[43mmain_flow\u001b[49m\u001b[43m(\u001b[49m\u001b[43mnr\u001b[49m\u001b[38;5;241;43m=\u001b[39;49m\u001b[38;5;241;43m0\u001b[39;49m\u001b[43m)\u001b[49m\n",
      "File \u001b[1;32mD:\\Optimus\\autobot\\venv\\lib\\site-packages\\prefect\\flows.py:442\u001b[0m, in \u001b[0;36mFlow.__call__\u001b[1;34m(self, return_state, wait_for, *args, **kwargs)\u001b[0m\n\u001b[0;32m    438\u001b[0m parameters \u001b[38;5;241m=\u001b[39m get_call_parameters(\u001b[38;5;28mself\u001b[39m\u001b[38;5;241m.\u001b[39mfn, args, kwargs)\n\u001b[0;32m    440\u001b[0m return_type \u001b[38;5;241m=\u001b[39m \u001b[38;5;124m\"\u001b[39m\u001b[38;5;124mstate\u001b[39m\u001b[38;5;124m\"\u001b[39m \u001b[38;5;28;01mif\u001b[39;00m return_state \u001b[38;5;28;01melse\u001b[39;00m \u001b[38;5;124m\"\u001b[39m\u001b[38;5;124mresult\u001b[39m\u001b[38;5;124m\"\u001b[39m\n\u001b[1;32m--> 442\u001b[0m \u001b[38;5;28;01mreturn\u001b[39;00m \u001b[43menter_flow_run_engine_from_flow_call\u001b[49m\u001b[43m(\u001b[49m\n\u001b[0;32m    443\u001b[0m \u001b[43m    \u001b[49m\u001b[38;5;28;43mself\u001b[39;49m\u001b[43m,\u001b[49m\n\u001b[0;32m    444\u001b[0m \u001b[43m    \u001b[49m\u001b[43mparameters\u001b[49m\u001b[43m,\u001b[49m\n\u001b[0;32m    445\u001b[0m \u001b[43m    \u001b[49m\u001b[43mwait_for\u001b[49m\u001b[38;5;241;43m=\u001b[39;49m\u001b[43mwait_for\u001b[49m\u001b[43m,\u001b[49m\n\u001b[0;32m    446\u001b[0m \u001b[43m    \u001b[49m\u001b[43mreturn_type\u001b[49m\u001b[38;5;241;43m=\u001b[39;49m\u001b[43mreturn_type\u001b[49m\u001b[43m,\u001b[49m\n\u001b[0;32m    447\u001b[0m \u001b[43m\u001b[49m\u001b[43m)\u001b[49m\n",
      "File \u001b[1;32mD:\\Optimus\\autobot\\venv\\lib\\site-packages\\prefect\\engine.py:154\u001b[0m, in \u001b[0;36menter_flow_run_engine_from_flow_call\u001b[1;34m(flow, parameters, wait_for, return_type)\u001b[0m\n\u001b[0;32m    150\u001b[0m \u001b[38;5;28;01melif\u001b[39;00m in_async_main_thread():\n\u001b[0;32m    151\u001b[0m     \u001b[38;5;66;03m# An event loop is already running and we must create a blocking portal to\u001b[39;00m\n\u001b[0;32m    152\u001b[0m     \u001b[38;5;66;03m# run async code from this synchronous context\u001b[39;00m\n\u001b[0;32m    153\u001b[0m     \u001b[38;5;28;01mwith\u001b[39;00m start_blocking_portal() \u001b[38;5;28;01mas\u001b[39;00m portal:\n\u001b[1;32m--> 154\u001b[0m         \u001b[38;5;28;01mreturn\u001b[39;00m \u001b[43mportal\u001b[49m\u001b[38;5;241;43m.\u001b[39;49m\u001b[43mcall\u001b[49m\u001b[43m(\u001b[49m\u001b[43mbegin_run\u001b[49m\u001b[43m)\u001b[49m\n\u001b[0;32m    155\u001b[0m \u001b[38;5;28;01melse\u001b[39;00m:\n\u001b[0;32m    156\u001b[0m     \u001b[38;5;66;03m# An event loop is not running so we will create one\u001b[39;00m\n\u001b[0;32m    157\u001b[0m     \u001b[38;5;28;01mreturn\u001b[39;00m anyio\u001b[38;5;241m.\u001b[39mrun(begin_run)\n",
      "File \u001b[1;32mD:\\Optimus\\autobot\\venv\\lib\\site-packages\\anyio\\from_thread.py:283\u001b[0m, in \u001b[0;36mBlockingPortal.call\u001b[1;34m(self, func, *args)\u001b[0m\n\u001b[0;32m    268\u001b[0m \u001b[38;5;28;01mdef\u001b[39;00m \u001b[38;5;21mcall\u001b[39m(\n\u001b[0;32m    269\u001b[0m     \u001b[38;5;28mself\u001b[39m,\n\u001b[0;32m    270\u001b[0m     func: Callable[\u001b[38;5;241m.\u001b[39m\u001b[38;5;241m.\u001b[39m\u001b[38;5;241m.\u001b[39m, Union[Coroutine[Any, Any, T_Retval], T_Retval]],\n\u001b[0;32m    271\u001b[0m     \u001b[38;5;241m*\u001b[39margs: \u001b[38;5;28mobject\u001b[39m\n\u001b[0;32m    272\u001b[0m ) \u001b[38;5;241m-\u001b[39m\u001b[38;5;241m>\u001b[39m T_Retval:\n\u001b[0;32m    273\u001b[0m     \u001b[38;5;124;03m\"\"\"\u001b[39;00m\n\u001b[0;32m    274\u001b[0m \u001b[38;5;124;03m    Call the given function in the event loop thread.\u001b[39;00m\n\u001b[0;32m    275\u001b[0m \n\u001b[1;32m   (...)\u001b[0m\n\u001b[0;32m    281\u001b[0m \n\u001b[0;32m    282\u001b[0m \u001b[38;5;124;03m    \"\"\"\u001b[39;00m\n\u001b[1;32m--> 283\u001b[0m     \u001b[38;5;28;01mreturn\u001b[39;00m cast(T_Retval, \u001b[38;5;28;43mself\u001b[39;49m\u001b[38;5;241;43m.\u001b[39;49m\u001b[43mstart_task_soon\u001b[49m\u001b[43m(\u001b[49m\u001b[43mfunc\u001b[49m\u001b[43m,\u001b[49m\u001b[43m \u001b[49m\u001b[38;5;241;43m*\u001b[39;49m\u001b[43margs\u001b[49m\u001b[43m)\u001b[49m\u001b[38;5;241;43m.\u001b[39;49m\u001b[43mresult\u001b[49m\u001b[43m(\u001b[49m\u001b[43m)\u001b[49m)\n",
      "File \u001b[1;32mC:\\Python310\\lib\\concurrent\\futures\\_base.py:458\u001b[0m, in \u001b[0;36mFuture.result\u001b[1;34m(self, timeout)\u001b[0m\n\u001b[0;32m    456\u001b[0m     \u001b[38;5;28;01mraise\u001b[39;00m CancelledError()\n\u001b[0;32m    457\u001b[0m \u001b[38;5;28;01melif\u001b[39;00m \u001b[38;5;28mself\u001b[39m\u001b[38;5;241m.\u001b[39m_state \u001b[38;5;241m==\u001b[39m FINISHED:\n\u001b[1;32m--> 458\u001b[0m     \u001b[38;5;28;01mreturn\u001b[39;00m \u001b[38;5;28;43mself\u001b[39;49m\u001b[38;5;241;43m.\u001b[39;49m\u001b[43m__get_result\u001b[49m\u001b[43m(\u001b[49m\u001b[43m)\u001b[49m\n\u001b[0;32m    459\u001b[0m \u001b[38;5;28;01melse\u001b[39;00m:\n\u001b[0;32m    460\u001b[0m     \u001b[38;5;28;01mraise\u001b[39;00m \u001b[38;5;167;01mTimeoutError\u001b[39;00m()\n",
      "File \u001b[1;32mC:\\Python310\\lib\\concurrent\\futures\\_base.py:403\u001b[0m, in \u001b[0;36mFuture.__get_result\u001b[1;34m(self)\u001b[0m\n\u001b[0;32m    401\u001b[0m \u001b[38;5;28;01mif\u001b[39;00m \u001b[38;5;28mself\u001b[39m\u001b[38;5;241m.\u001b[39m_exception:\n\u001b[0;32m    402\u001b[0m     \u001b[38;5;28;01mtry\u001b[39;00m:\n\u001b[1;32m--> 403\u001b[0m         \u001b[38;5;28;01mraise\u001b[39;00m \u001b[38;5;28mself\u001b[39m\u001b[38;5;241m.\u001b[39m_exception\n\u001b[0;32m    404\u001b[0m     \u001b[38;5;28;01mfinally\u001b[39;00m:\n\u001b[0;32m    405\u001b[0m         \u001b[38;5;66;03m# Break a reference cycle with the exception in self._exception\u001b[39;00m\n\u001b[0;32m    406\u001b[0m         \u001b[38;5;28mself\u001b[39m \u001b[38;5;241m=\u001b[39m \u001b[38;5;28;01mNone\u001b[39;00m\n",
      "File \u001b[1;32mD:\\Optimus\\autobot\\venv\\lib\\site-packages\\anyio\\from_thread.py:219\u001b[0m, in \u001b[0;36mBlockingPortal._call_func\u001b[1;34m(self, func, args, kwargs, future)\u001b[0m\n\u001b[0;32m    216\u001b[0m             \u001b[38;5;28;01melse\u001b[39;00m:\n\u001b[0;32m    217\u001b[0m                 future\u001b[38;5;241m.\u001b[39madd_done_callback(callback)\n\u001b[1;32m--> 219\u001b[0m             retval \u001b[38;5;241m=\u001b[39m \u001b[38;5;28;01mawait\u001b[39;00m retval\n\u001b[0;32m    220\u001b[0m \u001b[38;5;28;01mexcept\u001b[39;00m \u001b[38;5;28mself\u001b[39m\u001b[38;5;241m.\u001b[39m_cancelled_exc_class:\n\u001b[0;32m    221\u001b[0m     future\u001b[38;5;241m.\u001b[39mcancel()\n",
      "File \u001b[1;32mD:\\Optimus\\autobot\\venv\\lib\\site-packages\\prefect\\client\\utilities.py:47\u001b[0m, in \u001b[0;36minject_client.<locals>.with_injected_client\u001b[1;34m(*args, **kwargs)\u001b[0m\n\u001b[0;32m     45\u001b[0m \u001b[38;5;28;01masync\u001b[39;00m \u001b[38;5;28;01mwith\u001b[39;00m client_context \u001b[38;5;28;01mas\u001b[39;00m new_client:\n\u001b[0;32m     46\u001b[0m     kwargs\u001b[38;5;241m.\u001b[39msetdefault(\u001b[38;5;124m\"\u001b[39m\u001b[38;5;124mclient\u001b[39m\u001b[38;5;124m\"\u001b[39m, new_client \u001b[38;5;129;01mor\u001b[39;00m client)\n\u001b[1;32m---> 47\u001b[0m     \u001b[38;5;28;01mreturn\u001b[39;00m \u001b[38;5;28;01mawait\u001b[39;00m fn(\u001b[38;5;241m*\u001b[39margs, \u001b[38;5;241m*\u001b[39m\u001b[38;5;241m*\u001b[39mkwargs)\n",
      "File \u001b[1;32mD:\\Optimus\\autobot\\venv\\lib\\site-packages\\prefect\\engine.py:237\u001b[0m, in \u001b[0;36mcreate_then_begin_flow_run\u001b[1;34m(flow, parameters, wait_for, return_type, client)\u001b[0m\n\u001b[0;32m    235\u001b[0m     \u001b[38;5;28;01mreturn\u001b[39;00m state\n\u001b[0;32m    236\u001b[0m \u001b[38;5;28;01melif\u001b[39;00m return_type \u001b[38;5;241m==\u001b[39m \u001b[38;5;124m\"\u001b[39m\u001b[38;5;124mresult\u001b[39m\u001b[38;5;124m\"\u001b[39m:\n\u001b[1;32m--> 237\u001b[0m     \u001b[38;5;28;01mreturn\u001b[39;00m \u001b[38;5;28;01mawait\u001b[39;00m state\u001b[38;5;241m.\u001b[39mresult(fetch\u001b[38;5;241m=\u001b[39m\u001b[38;5;28;01mTrue\u001b[39;00m)\n\u001b[0;32m    238\u001b[0m \u001b[38;5;28;01melse\u001b[39;00m:\n\u001b[0;32m    239\u001b[0m     \u001b[38;5;28;01mraise\u001b[39;00m \u001b[38;5;167;01mValueError\u001b[39;00m(\u001b[38;5;124mf\u001b[39m\u001b[38;5;124m\"\u001b[39m\u001b[38;5;124mInvalid return type for flow engine \u001b[39m\u001b[38;5;132;01m{\u001b[39;00mreturn_type\u001b[38;5;132;01m!r}\u001b[39;00m\u001b[38;5;124m.\u001b[39m\u001b[38;5;124m\"\u001b[39m)\n",
      "File \u001b[1;32mD:\\Optimus\\autobot\\venv\\lib\\site-packages\\prefect\\states.py:74\u001b[0m, in \u001b[0;36m_get_state_result\u001b[1;34m(state, raise_on_failure)\u001b[0m\n\u001b[0;32m     70\u001b[0m \u001b[38;5;124;03m\"\"\"\u001b[39;00m\n\u001b[0;32m     71\u001b[0m \u001b[38;5;124;03mInternal implementation for `get_state_result` without async backwards compatibility\u001b[39;00m\n\u001b[0;32m     72\u001b[0m \u001b[38;5;124;03m\"\"\"\u001b[39;00m\n\u001b[0;32m     73\u001b[0m \u001b[38;5;28;01mif\u001b[39;00m raise_on_failure \u001b[38;5;129;01mand\u001b[39;00m (state\u001b[38;5;241m.\u001b[39mis_crashed() \u001b[38;5;129;01mor\u001b[39;00m state\u001b[38;5;241m.\u001b[39mis_failed()):\n\u001b[1;32m---> 74\u001b[0m     \u001b[38;5;28;01mraise\u001b[39;00m \u001b[38;5;28;01mawait\u001b[39;00m get_state_exception(state)\n\u001b[0;32m     76\u001b[0m \u001b[38;5;28;01mif\u001b[39;00m \u001b[38;5;28misinstance\u001b[39m(state\u001b[38;5;241m.\u001b[39mdata, DataDocument):\n\u001b[0;32m     77\u001b[0m     result \u001b[38;5;241m=\u001b[39m result_from_state_with_data_document(\n\u001b[0;32m     78\u001b[0m         state, raise_on_failure\u001b[38;5;241m=\u001b[39mraise_on_failure\n\u001b[0;32m     79\u001b[0m     )\n",
      "File \u001b[1;32mD:\\Optimus\\autobot\\venv\\lib\\site-packages\\prefect\\engine.py:1239\u001b[0m, in \u001b[0;36morchestrate_task_run\u001b[1;34m(task, task_run, parameters, wait_for, result_factory, interruptible, client)\u001b[0m\n\u001b[0;32m   1233\u001b[0m             \u001b[38;5;28;01melse\u001b[39;00m:\n\u001b[0;32m   1234\u001b[0m                 run_sync \u001b[38;5;241m=\u001b[39m (\n\u001b[0;32m   1235\u001b[0m                     run_sync_in_interruptible_worker_thread\n\u001b[0;32m   1236\u001b[0m                     \u001b[38;5;28;01mif\u001b[39;00m interruptible \u001b[38;5;129;01mor\u001b[39;00m timeout_scope\n\u001b[0;32m   1237\u001b[0m                     \u001b[38;5;28;01melse\u001b[39;00m run_sync_in_worker_thread\n\u001b[0;32m   1238\u001b[0m                 )\n\u001b[1;32m-> 1239\u001b[0m                 result \u001b[38;5;241m=\u001b[39m \u001b[38;5;28;01mawait\u001b[39;00m run_sync(task\u001b[38;5;241m.\u001b[39mfn, \u001b[38;5;241m*\u001b[39margs, \u001b[38;5;241m*\u001b[39m\u001b[38;5;241m*\u001b[39mkwargs)\n\u001b[0;32m   1241\u001b[0m \u001b[38;5;28;01mexcept\u001b[39;00m \u001b[38;5;167;01mException\u001b[39;00m \u001b[38;5;28;01mas\u001b[39;00m exc:\n\u001b[0;32m   1242\u001b[0m     name \u001b[38;5;241m=\u001b[39m message \u001b[38;5;241m=\u001b[39m \u001b[38;5;28;01mNone\u001b[39;00m\n",
      "File \u001b[1;32mD:\\Optimus\\autobot\\venv\\lib\\site-packages\\prefect\\utilities\\asyncutils.py:68\u001b[0m, in \u001b[0;36mrun_sync_in_worker_thread\u001b[1;34m(__fn, *args, **kwargs)\u001b[0m\n\u001b[0;32m     57\u001b[0m \u001b[38;5;124;03m\"\"\"\u001b[39;00m\n\u001b[0;32m     58\u001b[0m \u001b[38;5;124;03mRuns a sync function in a new worker thread so that the main thread's event loop\u001b[39;00m\n\u001b[0;32m     59\u001b[0m \u001b[38;5;124;03mis not blocked\u001b[39;00m\n\u001b[1;32m   (...)\u001b[0m\n\u001b[0;32m     65\u001b[0m \u001b[38;5;124;03mthread may continue running — the outcome will just be ignored.\u001b[39;00m\n\u001b[0;32m     66\u001b[0m \u001b[38;5;124;03m\"\"\"\u001b[39;00m\n\u001b[0;32m     67\u001b[0m call \u001b[38;5;241m=\u001b[39m partial(__fn, \u001b[38;5;241m*\u001b[39margs, \u001b[38;5;241m*\u001b[39m\u001b[38;5;241m*\u001b[39mkwargs)\n\u001b[1;32m---> 68\u001b[0m \u001b[38;5;28;01mreturn\u001b[39;00m \u001b[38;5;28;01mawait\u001b[39;00m anyio\u001b[38;5;241m.\u001b[39mto_thread\u001b[38;5;241m.\u001b[39mrun_sync(call, cancellable\u001b[38;5;241m=\u001b[39m\u001b[38;5;28;01mTrue\u001b[39;00m)\n",
      "File \u001b[1;32mD:\\Optimus\\autobot\\venv\\lib\\site-packages\\anyio\\to_thread.py:31\u001b[0m, in \u001b[0;36mrun_sync\u001b[1;34m(func, cancellable, limiter, *args)\u001b[0m\n\u001b[0;32m     10\u001b[0m \u001b[38;5;28;01masync\u001b[39;00m \u001b[38;5;28;01mdef\u001b[39;00m \u001b[38;5;21mrun_sync\u001b[39m(\n\u001b[0;32m     11\u001b[0m     func: Callable[\u001b[38;5;241m.\u001b[39m\u001b[38;5;241m.\u001b[39m\u001b[38;5;241m.\u001b[39m, T_Retval],\n\u001b[0;32m     12\u001b[0m     \u001b[38;5;241m*\u001b[39margs: \u001b[38;5;28mobject\u001b[39m,\n\u001b[0;32m     13\u001b[0m     cancellable: \u001b[38;5;28mbool\u001b[39m \u001b[38;5;241m=\u001b[39m \u001b[38;5;28;01mFalse\u001b[39;00m,\n\u001b[0;32m     14\u001b[0m     limiter: Optional[CapacityLimiter] \u001b[38;5;241m=\u001b[39m \u001b[38;5;28;01mNone\u001b[39;00m\n\u001b[0;32m     15\u001b[0m ) \u001b[38;5;241m-\u001b[39m\u001b[38;5;241m>\u001b[39m T_Retval:\n\u001b[0;32m     16\u001b[0m     \u001b[38;5;124;03m\"\"\"\u001b[39;00m\n\u001b[0;32m     17\u001b[0m \u001b[38;5;124;03m    Call the given function with the given arguments in a worker thread.\u001b[39;00m\n\u001b[0;32m     18\u001b[0m \n\u001b[1;32m   (...)\u001b[0m\n\u001b[0;32m     29\u001b[0m \n\u001b[0;32m     30\u001b[0m \u001b[38;5;124;03m    \"\"\"\u001b[39;00m\n\u001b[1;32m---> 31\u001b[0m     \u001b[38;5;28;01mreturn\u001b[39;00m \u001b[38;5;28;01mawait\u001b[39;00m get_asynclib()\u001b[38;5;241m.\u001b[39mrun_sync_in_worker_thread(\n\u001b[0;32m     32\u001b[0m         func, \u001b[38;5;241m*\u001b[39margs, cancellable\u001b[38;5;241m=\u001b[39mcancellable, limiter\u001b[38;5;241m=\u001b[39mlimiter\n\u001b[0;32m     33\u001b[0m     )\n",
      "File \u001b[1;32mD:\\Optimus\\autobot\\venv\\lib\\site-packages\\anyio\\_backends\\_asyncio.py:937\u001b[0m, in \u001b[0;36mrun_sync_in_worker_thread\u001b[1;34m(func, cancellable, limiter, *args)\u001b[0m\n\u001b[0;32m    935\u001b[0m context\u001b[38;5;241m.\u001b[39mrun(sniffio\u001b[38;5;241m.\u001b[39mcurrent_async_library_cvar\u001b[38;5;241m.\u001b[39mset, \u001b[38;5;28;01mNone\u001b[39;00m)\n\u001b[0;32m    936\u001b[0m worker\u001b[38;5;241m.\u001b[39mqueue\u001b[38;5;241m.\u001b[39mput_nowait((context, func, args, future))\n\u001b[1;32m--> 937\u001b[0m \u001b[38;5;28;01mreturn\u001b[39;00m \u001b[38;5;28;01mawait\u001b[39;00m future\n",
      "File \u001b[1;32mD:\\Optimus\\autobot\\venv\\lib\\site-packages\\anyio\\_backends\\_asyncio.py:867\u001b[0m, in \u001b[0;36mWorkerThread.run\u001b[1;34m(self)\u001b[0m\n\u001b[0;32m    865\u001b[0m exception: Optional[\u001b[38;5;167;01mBaseException\u001b[39;00m] \u001b[38;5;241m=\u001b[39m \u001b[38;5;28;01mNone\u001b[39;00m\n\u001b[0;32m    866\u001b[0m \u001b[38;5;28;01mtry\u001b[39;00m:\n\u001b[1;32m--> 867\u001b[0m     result \u001b[38;5;241m=\u001b[39m \u001b[43mcontext\u001b[49m\u001b[38;5;241;43m.\u001b[39;49m\u001b[43mrun\u001b[49m\u001b[43m(\u001b[49m\u001b[43mfunc\u001b[49m\u001b[43m,\u001b[49m\u001b[43m \u001b[49m\u001b[38;5;241;43m*\u001b[39;49m\u001b[43margs\u001b[49m\u001b[43m)\u001b[49m\n\u001b[0;32m    868\u001b[0m \u001b[38;5;28;01mexcept\u001b[39;00m \u001b[38;5;167;01mBaseException\u001b[39;00m \u001b[38;5;28;01mas\u001b[39;00m exc:\n\u001b[0;32m    869\u001b[0m     exception \u001b[38;5;241m=\u001b[39m exc\n",
      "Cell \u001b[1;32mIn [35], line 18\u001b[0m, in \u001b[0;36mfail_successfully\u001b[1;34m(x)\u001b[0m\n\u001b[0;32m     16\u001b[0m \u001b[38;5;129m@task\u001b[39m\n\u001b[0;32m     17\u001b[0m \u001b[38;5;28;01mdef\u001b[39;00m \u001b[38;5;21mfail_successfully\u001b[39m(x):\n\u001b[1;32m---> 18\u001b[0m     \u001b[38;5;28;01mreturn\u001b[39;00m \u001b[38;5;241;43m1\u001b[39;49m\u001b[43m \u001b[49m\u001b[38;5;241;43m/\u001b[39;49m\u001b[43m \u001b[49m\u001b[43mx\u001b[49m\n",
      "\u001b[1;31mZeroDivisionError\u001b[0m: division by zero"
     ]
    }
   ],
   "source": [
    "from prefect import task, flow\n",
    "from prefect.futures import PrefectFuture\n",
    "import requests\n",
    "\n",
    "def send_slack_alert_on_failure(task_future: PrefectFuture):\n",
    "    task_future.wait()  # block until completion\n",
    "    if task_future.get_state().is_failed():\n",
    "        name_ = task_future.task_run.name\n",
    "        id_ = task_future.task_run.flow_run_id\n",
    "        #requests.post(\n",
    "        #    \"https://hooks.slack.com/services/XXX/XXX/XXX\",\n",
    "        #    json={\"text\": f\"The task `{name_}` failed in a flow run `{id_}`\"},\n",
    "        #)\n",
    "        print('test')\n",
    "\n",
    "@task\n",
    "def fail_successfully(x):\n",
    "    return 1 / x\n",
    "\n",
    "@flow\n",
    "def main_flow(nr: int):\n",
    "    future_obj = fail_successfully.submit(nr)\n",
    "    send_slack_alert_on_failure(future_obj)\n",
    "\n",
    "if __name__ == \"__main__\":\n",
    "    main_flow(nr=0)"
   ]
  },
  {
   "cell_type": "code",
   "execution_count": 36,
   "id": "69325588",
   "metadata": {},
   "outputs": [
    {
     "name": "stderr",
     "output_type": "stream",
     "text": [
      "D:\\Optimus\\autobot\\venv\\lib\\site-packages\\prefect\\tasks.py:201: UserWarning: A task named 'my_task' and defined at 'C:\\Users\\svc_supplychain\\AppData\\Local\\Temp\\ipykernel_14060\\2631248182.py:2' conflicts with another task. Consider specifying a unique `name` parameter in the task definition:\n",
      "\n",
      " `@task(name='my_unique_name', ...)`\n",
      "  warnings.warn(\n"
     ]
    }
   ],
   "source": [
    "from prefect import flow, task\n",
    "@task\n",
    "def my_task() -> str:\n",
    "    return \"hello\""
   ]
  },
  {
   "cell_type": "code",
   "execution_count": 37,
   "id": "5a19c0f2",
   "metadata": {},
   "outputs": [
    {
     "name": "stderr",
     "output_type": "stream",
     "text": [
      "D:\\Optimus\\autobot\\venv\\lib\\site-packages\\prefect\\flows.py:202: UserWarning: A flow named 'my-flow' and defined at 'C:\\Users\\svc_supplychain\\AppData\\Local\\Temp\\ipykernel_14060\\3427954218.py:1' conflicts with another flow. Consider specifying a unique `name` parameter in the flow definition:\n",
      "\n",
      " `@flow(name='my_unique_name', ...)`\n",
      "  warnings.warn(\n"
     ]
    }
   ],
   "source": [
    "@flow\n",
    "def my_flow():\n",
    "    future = my_task()  # PrefectFuture[str, Sync] includes result type\n",
    "    future.task_run.id  # UUID for the task run\n"
   ]
  },
  {
   "cell_type": "code",
   "execution_count": 40,
   "id": "828e535b",
   "metadata": {},
   "outputs": [
    {
     "data": {
      "text/plain": [
       "<prefect.flows.Flow at 0x26df9ed7850>"
      ]
     },
     "execution_count": 40,
     "metadata": {},
     "output_type": "execute_result"
    }
   ],
   "source": [
    "my_flow"
   ]
  },
  {
   "cell_type": "code",
   "execution_count": 39,
   "id": "63d576ee",
   "metadata": {},
   "outputs": [
    {
     "name": "stderr",
     "output_type": "stream",
     "text": [
      "D:\\Optimus\\autobot\\venv\\lib\\site-packages\\prefect\\flows.py:202: UserWarning: A flow named 'my-flow' and defined at 'C:\\Users\\svc_supplychain\\AppData\\Local\\Temp\\ipykernel_14060\\367426205.py:1' conflicts with another flow. Consider specifying a unique `name` parameter in the flow definition:\n",
      "\n",
      " `@flow(name='my_unique_name', ...)`\n",
      "  warnings.warn(\n"
     ]
    }
   ],
   "source": [
    "@flow\n",
    "def my_flow():\n",
    "    future = my_task()\n",
    "\n",
    "    final_state = future.wait()"
   ]
  },
  {
   "cell_type": "code",
   "execution_count": 44,
   "id": "cd39f566",
   "metadata": {},
   "outputs": [
    {
     "name": "stderr",
     "output_type": "stream",
     "text": [
      "D:\\Optimus\\autobot\\venv\\lib\\site-packages\\prefect\\tasks.py:201: UserWarning: A task named 'do_something' and defined at 'C:\\Users\\svc_supplychain\\AppData\\Local\\Temp\\ipykernel_14060\\3544113119.py:4' conflicts with another task. Consider specifying a unique `name` parameter in the task definition:\n",
      "\n",
      " `@task(name='my_unique_name', ...)`\n",
      "  warnings.warn(\n",
      "D:\\Optimus\\autobot\\venv\\lib\\site-packages\\prefect\\flows.py:202: UserWarning: A flow named 'flow2' and defined at 'C:\\Users\\svc_supplychain\\AppData\\Local\\Temp\\ipykernel_14060\\3544113119.py:9' conflicts with another flow. Consider specifying a unique `name` parameter in the flow definition:\n",
      "\n",
      " `@flow(name='my_unique_name', ...)`\n",
      "  warnings.warn(\n"
     ]
    },
    {
     "data": {
      "text/html": [
       "<pre style=\"white-space:pre;overflow-x:auto;line-height:normal;font-family:Menlo,'DejaVu Sans Mono',consolas,'Courier New',monospace\">23:28:46.082 | <span style=\"color: #008080; text-decoration-color: #008080\">INFO</span>    | prefect.engine - Created flow run<span style=\"color: #800080; text-decoration-color: #800080\"> 'overjoyed-dugong'</span> for flow<span style=\"color: #800080; text-decoration-color: #800080; font-weight: bold\"> 'timeouttasktest'</span>\n",
       "</pre>\n"
      ],
      "text/plain": [
       "23:28:46.082 | \u001b[36mINFO\u001b[0m    | prefect.engine - Created flow run\u001b[35m 'overjoyed-dugong'\u001b[0m for flow\u001b[1;35m 'timeouttasktest'\u001b[0m\n"
      ]
     },
     "metadata": {},
     "output_type": "display_data"
    },
    {
     "data": {
      "text/html": [
       "<pre style=\"white-space:pre;overflow-x:auto;line-height:normal;font-family:Menlo,'DejaVu Sans Mono',consolas,'Courier New',monospace\">23:28:46.965 | <span style=\"color: #008080; text-decoration-color: #008080\">INFO</span>    | Flow run 'overjoyed-dugong' - Created task run 'do_something-efea0519-0' for task 'do_something'\n",
       "</pre>\n"
      ],
      "text/plain": [
       "23:28:46.965 | \u001b[36mINFO\u001b[0m    | Flow run 'overjoyed-dugong' - Created task run 'do_something-efea0519-0' for task 'do_something'\n"
      ]
     },
     "metadata": {},
     "output_type": "display_data"
    },
    {
     "data": {
      "text/html": [
       "<pre style=\"white-space:pre;overflow-x:auto;line-height:normal;font-family:Menlo,'DejaVu Sans Mono',consolas,'Courier New',monospace\">23:28:46.969 | <span style=\"color: #008080; text-decoration-color: #008080\">INFO</span>    | Flow run 'overjoyed-dugong' - Executing 'do_something-efea0519-0' immediately...\n",
       "</pre>\n"
      ],
      "text/plain": [
       "23:28:46.969 | \u001b[36mINFO\u001b[0m    | Flow run 'overjoyed-dugong' - Executing 'do_something-efea0519-0' immediately...\n"
      ]
     },
     "metadata": {},
     "output_type": "display_data"
    },
    {
     "name": "stdout",
     "output_type": "stream",
     "text": [
      "Do something\n"
     ]
    },
    {
     "data": {
      "text/html": [
       "<pre style=\"white-space:pre;overflow-x:auto;line-height:normal;font-family:Menlo,'DejaVu Sans Mono',consolas,'Courier New',monospace\">23:28:58.011 | <span style=\"color: #008080; text-decoration-color: #008080\">INFO</span>    | Task run 'do_something-efea0519-0' - Finished in state <span style=\"color: #008000; text-decoration-color: #008000\">Completed</span>()\n",
       "</pre>\n"
      ],
      "text/plain": [
       "23:28:58.011 | \u001b[36mINFO\u001b[0m    | Task run 'do_something-efea0519-0' - Finished in state \u001b[32mCompleted\u001b[0m()\n"
      ]
     },
     "metadata": {},
     "output_type": "display_data"
    },
    {
     "data": {
      "text/html": [
       "<pre style=\"white-space:pre;overflow-x:auto;line-height:normal;font-family:Menlo,'DejaVu Sans Mono',consolas,'Courier New',monospace\">23:28:58.061 | <span style=\"color: #d70000; text-decoration-color: #d70000\">ERROR</span>   | Flow run 'overjoyed-dugong' - Finished in state TimedOut('Flow run exceeded timeout of 3.0 seconds Traceback (most recent call last):\\n  File \"D:\\\\Optimus\\\\autobot\\\\venv\\\\lib\\\\site-packages\\\\prefect\\\\engine.py\", line 610, in orchestrate_flow_run\\n    result = await run_sync(flow_call)\\n  File \"D:\\\\Optimus\\\\autobot\\\\venv\\\\lib\\\\site-packages\\\\prefect\\\\utilities\\\\asyncutils.py\", line 126, in run_sync_in_interruptible_worker_thread\\n    async with anyio.create_task_group() as tg:\\n  File \"D:\\\\Optimus\\\\autobot\\\\venv\\\\lib\\\\site-packages\\\\anyio\\\\_backends\\\\_asyncio.py\", line 658, in __aexit__\\n    raise <span style=\"color: #d7d700; text-decoration-color: #d7d700\">Cancelled</span>Error\\nasyncio.exceptions.<span style=\"color: #d7d700; text-decoration-color: #d7d700\">Cancelled</span>Error\\n\\nDuring handling of the above exception, another exception occurred:\\n\\nTimeoutError\\n', type=FAILED)\n",
       "</pre>\n"
      ],
      "text/plain": [
       "23:28:58.061 | \u001b[38;5;160mERROR\u001b[0m   | Flow run 'overjoyed-dugong' - Finished in state TimedOut('Flow run exceeded timeout of 3.0 seconds Traceback (most recent call last):\\n  File \"D:\\\\Optimus\\\\autobot\\\\venv\\\\lib\\\\site-packages\\\\prefect\\\\engine.py\", line 610, in orchestrate_flow_run\\n    result = await run_sync(flow_call)\\n  File \"D:\\\\Optimus\\\\autobot\\\\venv\\\\lib\\\\site-packages\\\\prefect\\\\utilities\\\\asyncutils.py\", line 126, in run_sync_in_interruptible_worker_thread\\n    async with anyio.create_task_group() as tg:\\n  File \"D:\\\\Optimus\\\\autobot\\\\venv\\\\lib\\\\site-packages\\\\anyio\\\\_backends\\\\_asyncio.py\", line 658, in __aexit__\\n    raise \u001b[38;5;184mCancelled\u001b[0mError\\nasyncio.exceptions.\u001b[38;5;184mCancelled\u001b[0mError\\n\\nDuring handling of the above exception, another exception occurred:\\n\\nTimeoutError\\n', type=FAILED)\n"
      ]
     },
     "metadata": {},
     "output_type": "display_data"
    },
    {
     "ename": "TimeoutError",
     "evalue": "",
     "output_type": "error",
     "traceback": [
      "\u001b[1;31m---------------------------------------------------------------------------\u001b[0m",
      "\u001b[1;31mCancelledError\u001b[0m                            Traceback (most recent call last)",
      "File \u001b[1;32mD:\\Optimus\\autobot\\venv\\lib\\site-packages\\prefect\\engine.py:610\u001b[0m, in \u001b[0;36morchestrate_flow_run\u001b[1;34m(flow, flow_run, parameters, wait_for, interruptible, client, partial_flow_run_context)\u001b[0m\n\u001b[0;32m    605\u001b[0m         run_sync \u001b[38;5;241m=\u001b[39m (\n\u001b[0;32m    606\u001b[0m             run_sync_in_interruptible_worker_thread\n\u001b[0;32m    607\u001b[0m             \u001b[38;5;28;01mif\u001b[39;00m interruptible \u001b[38;5;129;01mor\u001b[39;00m timeout_scope\n\u001b[0;32m    608\u001b[0m             \u001b[38;5;28;01melse\u001b[39;00m run_sync_in_worker_thread\n\u001b[0;32m    609\u001b[0m         )\n\u001b[1;32m--> 610\u001b[0m         result \u001b[38;5;241m=\u001b[39m \u001b[38;5;28;01mawait\u001b[39;00m run_sync(flow_call)\n\u001b[0;32m    612\u001b[0m waited_for_task_runs \u001b[38;5;241m=\u001b[39m \u001b[38;5;28;01mawait\u001b[39;00m wait_for_task_runs_and_report_crashes(\n\u001b[0;32m    613\u001b[0m     flow_run_context\u001b[38;5;241m.\u001b[39mtask_run_futures, client\u001b[38;5;241m=\u001b[39mclient\n\u001b[0;32m    614\u001b[0m )\n",
      "File \u001b[1;32mD:\\Optimus\\autobot\\venv\\lib\\site-packages\\prefect\\utilities\\asyncutils.py:126\u001b[0m, in \u001b[0;36mrun_sync_in_interruptible_worker_thread\u001b[1;34m(__fn, *args, **kwargs)\u001b[0m\n\u001b[0;32m    124\u001b[0m         \u001b[38;5;28;01mraise\u001b[39;00m\n\u001b[1;32m--> 126\u001b[0m \u001b[38;5;28;01masync\u001b[39;00m \u001b[38;5;28;01mwith\u001b[39;00m anyio\u001b[38;5;241m.\u001b[39mcreate_task_group() \u001b[38;5;28;01mas\u001b[39;00m tg:\n\u001b[0;32m    127\u001b[0m     tg\u001b[38;5;241m.\u001b[39mstart_soon(send_interrupt_to_thread)\n",
      "File \u001b[1;32mD:\\Optimus\\autobot\\venv\\lib\\site-packages\\anyio\\_backends\\_asyncio.py:658\u001b[0m, in \u001b[0;36mTaskGroup.__aexit__\u001b[1;34m(self, exc_type, exc_val, exc_tb)\u001b[0m\n\u001b[0;32m    654\u001b[0m \u001b[38;5;28;01mif\u001b[39;00m \u001b[38;5;28mall\u001b[39m(\n\u001b[0;32m    655\u001b[0m     \u001b[38;5;28misinstance\u001b[39m(e, CancelledError) \u001b[38;5;129;01mand\u001b[39;00m \u001b[38;5;129;01mnot\u001b[39;00m e\u001b[38;5;241m.\u001b[39margs \u001b[38;5;28;01mfor\u001b[39;00m e \u001b[38;5;129;01min\u001b[39;00m exceptions\n\u001b[0;32m    656\u001b[0m ):\n\u001b[0;32m    657\u001b[0m     \u001b[38;5;66;03m# Tasks were cancelled natively, without a cancellation message\u001b[39;00m\n\u001b[1;32m--> 658\u001b[0m     \u001b[38;5;28;01mraise\u001b[39;00m CancelledError\n\u001b[0;32m    659\u001b[0m \u001b[38;5;28;01melse\u001b[39;00m:\n",
      "\u001b[1;31mCancelledError\u001b[0m: ",
      "\nDuring handling of the above exception, another exception occurred:\n",
      "\u001b[1;31mTimeoutError\u001b[0m                              Traceback (most recent call last)",
      "Cell \u001b[1;32mIn [44], line 18\u001b[0m\n\u001b[0;32m     15\u001b[0m     do_something()\n\u001b[0;32m     16\u001b[0m     flow2()\n\u001b[1;32m---> 18\u001b[0m \u001b[43mtimeout_task\u001b[49m\u001b[43m(\u001b[49m\u001b[43m)\u001b[49m\n",
      "File \u001b[1;32mD:\\Optimus\\autobot\\venv\\lib\\site-packages\\prefect\\flows.py:442\u001b[0m, in \u001b[0;36mFlow.__call__\u001b[1;34m(self, return_state, wait_for, *args, **kwargs)\u001b[0m\n\u001b[0;32m    438\u001b[0m parameters \u001b[38;5;241m=\u001b[39m get_call_parameters(\u001b[38;5;28mself\u001b[39m\u001b[38;5;241m.\u001b[39mfn, args, kwargs)\n\u001b[0;32m    440\u001b[0m return_type \u001b[38;5;241m=\u001b[39m \u001b[38;5;124m\"\u001b[39m\u001b[38;5;124mstate\u001b[39m\u001b[38;5;124m\"\u001b[39m \u001b[38;5;28;01mif\u001b[39;00m return_state \u001b[38;5;28;01melse\u001b[39;00m \u001b[38;5;124m\"\u001b[39m\u001b[38;5;124mresult\u001b[39m\u001b[38;5;124m\"\u001b[39m\n\u001b[1;32m--> 442\u001b[0m \u001b[38;5;28;01mreturn\u001b[39;00m \u001b[43menter_flow_run_engine_from_flow_call\u001b[49m\u001b[43m(\u001b[49m\n\u001b[0;32m    443\u001b[0m \u001b[43m    \u001b[49m\u001b[38;5;28;43mself\u001b[39;49m\u001b[43m,\u001b[49m\n\u001b[0;32m    444\u001b[0m \u001b[43m    \u001b[49m\u001b[43mparameters\u001b[49m\u001b[43m,\u001b[49m\n\u001b[0;32m    445\u001b[0m \u001b[43m    \u001b[49m\u001b[43mwait_for\u001b[49m\u001b[38;5;241;43m=\u001b[39;49m\u001b[43mwait_for\u001b[49m\u001b[43m,\u001b[49m\n\u001b[0;32m    446\u001b[0m \u001b[43m    \u001b[49m\u001b[43mreturn_type\u001b[49m\u001b[38;5;241;43m=\u001b[39;49m\u001b[43mreturn_type\u001b[49m\u001b[43m,\u001b[49m\n\u001b[0;32m    447\u001b[0m \u001b[43m\u001b[49m\u001b[43m)\u001b[49m\n",
      "File \u001b[1;32mD:\\Optimus\\autobot\\venv\\lib\\site-packages\\prefect\\engine.py:154\u001b[0m, in \u001b[0;36menter_flow_run_engine_from_flow_call\u001b[1;34m(flow, parameters, wait_for, return_type)\u001b[0m\n\u001b[0;32m    150\u001b[0m \u001b[38;5;28;01melif\u001b[39;00m in_async_main_thread():\n\u001b[0;32m    151\u001b[0m     \u001b[38;5;66;03m# An event loop is already running and we must create a blocking portal to\u001b[39;00m\n\u001b[0;32m    152\u001b[0m     \u001b[38;5;66;03m# run async code from this synchronous context\u001b[39;00m\n\u001b[0;32m    153\u001b[0m     \u001b[38;5;28;01mwith\u001b[39;00m start_blocking_portal() \u001b[38;5;28;01mas\u001b[39;00m portal:\n\u001b[1;32m--> 154\u001b[0m         \u001b[38;5;28;01mreturn\u001b[39;00m \u001b[43mportal\u001b[49m\u001b[38;5;241;43m.\u001b[39;49m\u001b[43mcall\u001b[49m\u001b[43m(\u001b[49m\u001b[43mbegin_run\u001b[49m\u001b[43m)\u001b[49m\n\u001b[0;32m    155\u001b[0m \u001b[38;5;28;01melse\u001b[39;00m:\n\u001b[0;32m    156\u001b[0m     \u001b[38;5;66;03m# An event loop is not running so we will create one\u001b[39;00m\n\u001b[0;32m    157\u001b[0m     \u001b[38;5;28;01mreturn\u001b[39;00m anyio\u001b[38;5;241m.\u001b[39mrun(begin_run)\n",
      "File \u001b[1;32mD:\\Optimus\\autobot\\venv\\lib\\site-packages\\anyio\\from_thread.py:283\u001b[0m, in \u001b[0;36mBlockingPortal.call\u001b[1;34m(self, func, *args)\u001b[0m\n\u001b[0;32m    268\u001b[0m \u001b[38;5;28;01mdef\u001b[39;00m \u001b[38;5;21mcall\u001b[39m(\n\u001b[0;32m    269\u001b[0m     \u001b[38;5;28mself\u001b[39m,\n\u001b[0;32m    270\u001b[0m     func: Callable[\u001b[38;5;241m.\u001b[39m\u001b[38;5;241m.\u001b[39m\u001b[38;5;241m.\u001b[39m, Union[Coroutine[Any, Any, T_Retval], T_Retval]],\n\u001b[0;32m    271\u001b[0m     \u001b[38;5;241m*\u001b[39margs: \u001b[38;5;28mobject\u001b[39m\n\u001b[0;32m    272\u001b[0m ) \u001b[38;5;241m-\u001b[39m\u001b[38;5;241m>\u001b[39m T_Retval:\n\u001b[0;32m    273\u001b[0m     \u001b[38;5;124;03m\"\"\"\u001b[39;00m\n\u001b[0;32m    274\u001b[0m \u001b[38;5;124;03m    Call the given function in the event loop thread.\u001b[39;00m\n\u001b[0;32m    275\u001b[0m \n\u001b[1;32m   (...)\u001b[0m\n\u001b[0;32m    281\u001b[0m \n\u001b[0;32m    282\u001b[0m \u001b[38;5;124;03m    \"\"\"\u001b[39;00m\n\u001b[1;32m--> 283\u001b[0m     \u001b[38;5;28;01mreturn\u001b[39;00m cast(T_Retval, \u001b[38;5;28;43mself\u001b[39;49m\u001b[38;5;241;43m.\u001b[39;49m\u001b[43mstart_task_soon\u001b[49m\u001b[43m(\u001b[49m\u001b[43mfunc\u001b[49m\u001b[43m,\u001b[49m\u001b[43m \u001b[49m\u001b[38;5;241;43m*\u001b[39;49m\u001b[43margs\u001b[49m\u001b[43m)\u001b[49m\u001b[38;5;241;43m.\u001b[39;49m\u001b[43mresult\u001b[49m\u001b[43m(\u001b[49m\u001b[43m)\u001b[49m)\n",
      "File \u001b[1;32mC:\\Python310\\lib\\concurrent\\futures\\_base.py:458\u001b[0m, in \u001b[0;36mFuture.result\u001b[1;34m(self, timeout)\u001b[0m\n\u001b[0;32m    456\u001b[0m     \u001b[38;5;28;01mraise\u001b[39;00m CancelledError()\n\u001b[0;32m    457\u001b[0m \u001b[38;5;28;01melif\u001b[39;00m \u001b[38;5;28mself\u001b[39m\u001b[38;5;241m.\u001b[39m_state \u001b[38;5;241m==\u001b[39m FINISHED:\n\u001b[1;32m--> 458\u001b[0m     \u001b[38;5;28;01mreturn\u001b[39;00m \u001b[38;5;28;43mself\u001b[39;49m\u001b[38;5;241;43m.\u001b[39;49m\u001b[43m__get_result\u001b[49m\u001b[43m(\u001b[49m\u001b[43m)\u001b[49m\n\u001b[0;32m    459\u001b[0m \u001b[38;5;28;01melse\u001b[39;00m:\n\u001b[0;32m    460\u001b[0m     \u001b[38;5;28;01mraise\u001b[39;00m \u001b[38;5;167;01mTimeoutError\u001b[39;00m()\n",
      "File \u001b[1;32mC:\\Python310\\lib\\concurrent\\futures\\_base.py:403\u001b[0m, in \u001b[0;36mFuture.__get_result\u001b[1;34m(self)\u001b[0m\n\u001b[0;32m    401\u001b[0m \u001b[38;5;28;01mif\u001b[39;00m \u001b[38;5;28mself\u001b[39m\u001b[38;5;241m.\u001b[39m_exception:\n\u001b[0;32m    402\u001b[0m     \u001b[38;5;28;01mtry\u001b[39;00m:\n\u001b[1;32m--> 403\u001b[0m         \u001b[38;5;28;01mraise\u001b[39;00m \u001b[38;5;28mself\u001b[39m\u001b[38;5;241m.\u001b[39m_exception\n\u001b[0;32m    404\u001b[0m     \u001b[38;5;28;01mfinally\u001b[39;00m:\n\u001b[0;32m    405\u001b[0m         \u001b[38;5;66;03m# Break a reference cycle with the exception in self._exception\u001b[39;00m\n\u001b[0;32m    406\u001b[0m         \u001b[38;5;28mself\u001b[39m \u001b[38;5;241m=\u001b[39m \u001b[38;5;28;01mNone\u001b[39;00m\n",
      "File \u001b[1;32mD:\\Optimus\\autobot\\venv\\lib\\site-packages\\anyio\\from_thread.py:219\u001b[0m, in \u001b[0;36mBlockingPortal._call_func\u001b[1;34m(self, func, args, kwargs, future)\u001b[0m\n\u001b[0;32m    216\u001b[0m             \u001b[38;5;28;01melse\u001b[39;00m:\n\u001b[0;32m    217\u001b[0m                 future\u001b[38;5;241m.\u001b[39madd_done_callback(callback)\n\u001b[1;32m--> 219\u001b[0m             retval \u001b[38;5;241m=\u001b[39m \u001b[38;5;28;01mawait\u001b[39;00m retval\n\u001b[0;32m    220\u001b[0m \u001b[38;5;28;01mexcept\u001b[39;00m \u001b[38;5;28mself\u001b[39m\u001b[38;5;241m.\u001b[39m_cancelled_exc_class:\n\u001b[0;32m    221\u001b[0m     future\u001b[38;5;241m.\u001b[39mcancel()\n",
      "File \u001b[1;32mD:\\Optimus\\autobot\\venv\\lib\\site-packages\\prefect\\client\\utilities.py:47\u001b[0m, in \u001b[0;36minject_client.<locals>.with_injected_client\u001b[1;34m(*args, **kwargs)\u001b[0m\n\u001b[0;32m     45\u001b[0m \u001b[38;5;28;01masync\u001b[39;00m \u001b[38;5;28;01mwith\u001b[39;00m client_context \u001b[38;5;28;01mas\u001b[39;00m new_client:\n\u001b[0;32m     46\u001b[0m     kwargs\u001b[38;5;241m.\u001b[39msetdefault(\u001b[38;5;124m\"\u001b[39m\u001b[38;5;124mclient\u001b[39m\u001b[38;5;124m\"\u001b[39m, new_client \u001b[38;5;129;01mor\u001b[39;00m client)\n\u001b[1;32m---> 47\u001b[0m     \u001b[38;5;28;01mreturn\u001b[39;00m \u001b[38;5;28;01mawait\u001b[39;00m fn(\u001b[38;5;241m*\u001b[39margs, \u001b[38;5;241m*\u001b[39m\u001b[38;5;241m*\u001b[39mkwargs)\n",
      "File \u001b[1;32mD:\\Optimus\\autobot\\venv\\lib\\site-packages\\prefect\\engine.py:237\u001b[0m, in \u001b[0;36mcreate_then_begin_flow_run\u001b[1;34m(flow, parameters, wait_for, return_type, client)\u001b[0m\n\u001b[0;32m    235\u001b[0m     \u001b[38;5;28;01mreturn\u001b[39;00m state\n\u001b[0;32m    236\u001b[0m \u001b[38;5;28;01melif\u001b[39;00m return_type \u001b[38;5;241m==\u001b[39m \u001b[38;5;124m\"\u001b[39m\u001b[38;5;124mresult\u001b[39m\u001b[38;5;124m\"\u001b[39m:\n\u001b[1;32m--> 237\u001b[0m     \u001b[38;5;28;01mreturn\u001b[39;00m \u001b[38;5;28;01mawait\u001b[39;00m state\u001b[38;5;241m.\u001b[39mresult(fetch\u001b[38;5;241m=\u001b[39m\u001b[38;5;28;01mTrue\u001b[39;00m)\n\u001b[0;32m    238\u001b[0m \u001b[38;5;28;01melse\u001b[39;00m:\n\u001b[0;32m    239\u001b[0m     \u001b[38;5;28;01mraise\u001b[39;00m \u001b[38;5;167;01mValueError\u001b[39;00m(\u001b[38;5;124mf\u001b[39m\u001b[38;5;124m\"\u001b[39m\u001b[38;5;124mInvalid return type for flow engine \u001b[39m\u001b[38;5;132;01m{\u001b[39;00mreturn_type\u001b[38;5;132;01m!r}\u001b[39;00m\u001b[38;5;124m.\u001b[39m\u001b[38;5;124m\"\u001b[39m)\n",
      "File \u001b[1;32mD:\\Optimus\\autobot\\venv\\lib\\site-packages\\prefect\\states.py:74\u001b[0m, in \u001b[0;36m_get_state_result\u001b[1;34m(state, raise_on_failure)\u001b[0m\n\u001b[0;32m     70\u001b[0m \u001b[38;5;124;03m\"\"\"\u001b[39;00m\n\u001b[0;32m     71\u001b[0m \u001b[38;5;124;03mInternal implementation for `get_state_result` without async backwards compatibility\u001b[39;00m\n\u001b[0;32m     72\u001b[0m \u001b[38;5;124;03m\"\"\"\u001b[39;00m\n\u001b[0;32m     73\u001b[0m \u001b[38;5;28;01mif\u001b[39;00m raise_on_failure \u001b[38;5;129;01mand\u001b[39;00m (state\u001b[38;5;241m.\u001b[39mis_crashed() \u001b[38;5;129;01mor\u001b[39;00m state\u001b[38;5;241m.\u001b[39mis_failed()):\n\u001b[1;32m---> 74\u001b[0m     \u001b[38;5;28;01mraise\u001b[39;00m \u001b[38;5;28;01mawait\u001b[39;00m get_state_exception(state)\n\u001b[0;32m     76\u001b[0m \u001b[38;5;28;01mif\u001b[39;00m \u001b[38;5;28misinstance\u001b[39m(state\u001b[38;5;241m.\u001b[39mdata, DataDocument):\n\u001b[0;32m     77\u001b[0m     result \u001b[38;5;241m=\u001b[39m result_from_state_with_data_document(\n\u001b[0;32m     78\u001b[0m         state, raise_on_failure\u001b[38;5;241m=\u001b[39mraise_on_failure\n\u001b[0;32m     79\u001b[0m     )\n",
      "File \u001b[1;32mD:\\Optimus\\autobot\\venv\\lib\\site-packages\\prefect\\engine.py:581\u001b[0m, in \u001b[0;36morchestrate_flow_run\u001b[1;34m(flow, flow_run, parameters, wait_for, interruptible, client, partial_flow_run_context)\u001b[0m\n\u001b[0;32m    579\u001b[0m flow_run \u001b[38;5;241m=\u001b[39m \u001b[38;5;28;01mawait\u001b[39;00m client\u001b[38;5;241m.\u001b[39mread_flow_run(flow_run\u001b[38;5;241m.\u001b[39mid)\n\u001b[0;32m    580\u001b[0m \u001b[38;5;28;01mtry\u001b[39;00m:\n\u001b[1;32m--> 581\u001b[0m     \u001b[38;5;28;01mwith\u001b[39;00m timeout_context \u001b[38;5;28;01mas\u001b[39;00m timeout_scope:\n\u001b[0;32m    582\u001b[0m         \u001b[38;5;28;01mwith\u001b[39;00m partial_flow_run_context\u001b[38;5;241m.\u001b[39mfinalize(\n\u001b[0;32m    583\u001b[0m             flow\u001b[38;5;241m=\u001b[39mflow,\n\u001b[0;32m    584\u001b[0m             flow_run\u001b[38;5;241m=\u001b[39mflow_run,\n\u001b[0;32m    585\u001b[0m             client\u001b[38;5;241m=\u001b[39mclient,\n\u001b[0;32m    586\u001b[0m             timeout_scope\u001b[38;5;241m=\u001b[39mtimeout_scope,\n\u001b[0;32m    587\u001b[0m         ) \u001b[38;5;28;01mas\u001b[39;00m flow_run_context:\n\u001b[0;32m    588\u001b[0m             args, kwargs \u001b[38;5;241m=\u001b[39m parameters_to_args_kwargs(flow\u001b[38;5;241m.\u001b[39mfn, parameters)\n",
      "File \u001b[1;32mD:\\Optimus\\autobot\\venv\\lib\\site-packages\\anyio\\_core\\_tasks.py:118\u001b[0m, in \u001b[0;36mFailAfterContextManager.__exit__\u001b[1;34m(self, exc_type, exc_val, exc_tb)\u001b[0m\n\u001b[0;32m    116\u001b[0m retval \u001b[38;5;241m=\u001b[39m \u001b[38;5;28mself\u001b[39m\u001b[38;5;241m.\u001b[39m_cancel_scope\u001b[38;5;241m.\u001b[39m\u001b[38;5;21m__exit__\u001b[39m(exc_type, exc_val, exc_tb)\n\u001b[0;32m    117\u001b[0m \u001b[38;5;28;01mif\u001b[39;00m \u001b[38;5;28mself\u001b[39m\u001b[38;5;241m.\u001b[39m_cancel_scope\u001b[38;5;241m.\u001b[39mcancel_called:\n\u001b[1;32m--> 118\u001b[0m     \u001b[38;5;28;01mraise\u001b[39;00m \u001b[38;5;167;01mTimeoutError\u001b[39;00m\n\u001b[0;32m    120\u001b[0m \u001b[38;5;28;01mreturn\u001b[39;00m retval\n",
      "\u001b[1;31mTimeoutError\u001b[0m: "
     ]
    }
   ],
   "source": [
    "#https://linen.prefect.io/t/48130/ah-i-see-that-s-a-nice-suggestion\n",
    "\n",
    "from prefect import flow, task\n",
    "from time import sleep\n",
    "\n",
    "@task\n",
    "def do_something():\n",
    "    print(\"Do something\")\n",
    "    sleep(10)\n",
    "\n",
    "@flow(timeout_seconds=1)\n",
    "def flow2():\n",
    "    do_something()\n",
    "\n",
    "@flow(name='timeouttasktest', timeout_seconds=3)\n",
    "def timeout_task():\n",
    "    do_something()\n",
    "    flow2()\n",
    "\n",
    "timeout_task()"
   ]
  },
  {
   "cell_type": "code",
   "execution_count": 43,
   "id": "aab8c376",
   "metadata": {},
   "outputs": [
    {
     "data": {
      "text/html": [
       "<pre style=\"white-space:pre;overflow-x:auto;line-height:normal;font-family:Menlo,'DejaVu Sans Mono',consolas,'Courier New',monospace\">23:26:38.000 | <span style=\"color: #008080; text-decoration-color: #008080\">INFO</span>    | prefect.engine - Created flow run<span style=\"color: #800080; text-decoration-color: #800080\"> 'granite-woodpecker'</span> for flow<span style=\"color: #800080; text-decoration-color: #800080; font-weight: bold\"> 'combined'</span>\n",
       "</pre>\n"
      ],
      "text/plain": [
       "23:26:38.000 | \u001b[36mINFO\u001b[0m    | prefect.engine - Created flow run\u001b[35m 'granite-woodpecker'\u001b[0m for flow\u001b[1;35m 'combined'\u001b[0m\n"
      ]
     },
     "metadata": {},
     "output_type": "display_data"
    },
    {
     "data": {
      "text/html": [
       "<pre style=\"white-space:pre;overflow-x:auto;line-height:normal;font-family:Menlo,'DejaVu Sans Mono',consolas,'Courier New',monospace\">23:26:39.124 | <span style=\"color: #008080; text-decoration-color: #008080\">INFO</span>    | Flow run 'granite-woodpecker' - Created task run 'combined_inner-748fc1c7-0' for task 'combined_inner'\n",
       "</pre>\n"
      ],
      "text/plain": [
       "23:26:39.124 | \u001b[36mINFO\u001b[0m    | Flow run 'granite-woodpecker' - Created task run 'combined_inner-748fc1c7-0' for task 'combined_inner'\n"
      ]
     },
     "metadata": {},
     "output_type": "display_data"
    },
    {
     "data": {
      "text/html": [
       "<pre style=\"white-space:pre;overflow-x:auto;line-height:normal;font-family:Menlo,'DejaVu Sans Mono',consolas,'Courier New',monospace\">23:26:39.127 | <span style=\"color: #008080; text-decoration-color: #008080\">INFO</span>    | Flow run 'granite-woodpecker' - Executing 'combined_inner-748fc1c7-0' immediately...\n",
       "</pre>\n"
      ],
      "text/plain": [
       "23:26:39.127 | \u001b[36mINFO\u001b[0m    | Flow run 'granite-woodpecker' - Executing 'combined_inner-748fc1c7-0' immediately...\n"
      ]
     },
     "metadata": {},
     "output_type": "display_data"
    },
    {
     "name": "stdout",
     "output_type": "stream",
     "text": [
      "Do something\n"
     ]
    },
    {
     "data": {
      "text/html": [
       "<pre style=\"white-space:pre;overflow-x:auto;line-height:normal;font-family:Menlo,'DejaVu Sans Mono',consolas,'Courier New',monospace\">23:27:00.781 | <span style=\"color: #008080; text-decoration-color: #008080\">INFO</span>    | Task run 'combined_inner-748fc1c7-0' - Finished in state <span style=\"color: #008000; text-decoration-color: #008000\">Completed</span>()\n",
       "</pre>\n"
      ],
      "text/plain": [
       "23:27:00.781 | \u001b[36mINFO\u001b[0m    | Task run 'combined_inner-748fc1c7-0' - Finished in state \u001b[32mCompleted\u001b[0m()\n"
      ]
     },
     "metadata": {},
     "output_type": "display_data"
    },
    {
     "data": {
      "text/html": [
       "<pre style=\"white-space:pre;overflow-x:auto;line-height:normal;font-family:Menlo,'DejaVu Sans Mono',consolas,'Courier New',monospace\">23:27:00.845 | <span style=\"color: #d70000; text-decoration-color: #d70000\">ERROR</span>   | Flow run 'granite-woodpecker' - Finished in state TimedOut('Flow run exceeded timeout of 10.0 seconds Traceback (most recent call last):\\n  File \"D:\\\\Optimus\\\\autobot\\\\venv\\\\lib\\\\site-packages\\\\prefect\\\\engine.py\", line 610, in orchestrate_flow_run\\n    result = await run_sync(flow_call)\\n  File \"D:\\\\Optimus\\\\autobot\\\\venv\\\\lib\\\\site-packages\\\\prefect\\\\utilities\\\\asyncutils.py\", line 126, in run_sync_in_interruptible_worker_thread\\n    async with anyio.create_task_group() as tg:\\n  File \"D:\\\\Optimus\\\\autobot\\\\venv\\\\lib\\\\site-packages\\\\anyio\\\\_backends\\\\_asyncio.py\", line 658, in __aexit__\\n    raise <span style=\"color: #d7d700; text-decoration-color: #d7d700\">Cancelled</span>Error\\nasyncio.exceptions.<span style=\"color: #d7d700; text-decoration-color: #d7d700\">Cancelled</span>Error\\n\\nDuring handling of the above exception, another exception occurred:\\n\\nTimeoutError\\n', type=FAILED)\n",
       "</pre>\n"
      ],
      "text/plain": [
       "23:27:00.845 | \u001b[38;5;160mERROR\u001b[0m   | Flow run 'granite-woodpecker' - Finished in state TimedOut('Flow run exceeded timeout of 10.0 seconds Traceback (most recent call last):\\n  File \"D:\\\\Optimus\\\\autobot\\\\venv\\\\lib\\\\site-packages\\\\prefect\\\\engine.py\", line 610, in orchestrate_flow_run\\n    result = await run_sync(flow_call)\\n  File \"D:\\\\Optimus\\\\autobot\\\\venv\\\\lib\\\\site-packages\\\\prefect\\\\utilities\\\\asyncutils.py\", line 126, in run_sync_in_interruptible_worker_thread\\n    async with anyio.create_task_group() as tg:\\n  File \"D:\\\\Optimus\\\\autobot\\\\venv\\\\lib\\\\site-packages\\\\anyio\\\\_backends\\\\_asyncio.py\", line 658, in __aexit__\\n    raise \u001b[38;5;184mCancelled\u001b[0mError\\nasyncio.exceptions.\u001b[38;5;184mCancelled\u001b[0mError\\n\\nDuring handling of the above exception, another exception occurred:\\n\\nTimeoutError\\n', type=FAILED)\n"
      ]
     },
     "metadata": {},
     "output_type": "display_data"
    },
    {
     "ename": "TimeoutError",
     "evalue": "",
     "output_type": "error",
     "traceback": [
      "\u001b[1;31m---------------------------------------------------------------------------\u001b[0m",
      "\u001b[1;31mCancelledError\u001b[0m                            Traceback (most recent call last)",
      "File \u001b[1;32mD:\\Optimus\\autobot\\venv\\lib\\site-packages\\prefect\\engine.py:610\u001b[0m, in \u001b[0;36morchestrate_flow_run\u001b[1;34m(flow, flow_run, parameters, wait_for, interruptible, client, partial_flow_run_context)\u001b[0m\n\u001b[0;32m    605\u001b[0m         run_sync \u001b[38;5;241m=\u001b[39m (\n\u001b[0;32m    606\u001b[0m             run_sync_in_interruptible_worker_thread\n\u001b[0;32m    607\u001b[0m             \u001b[38;5;28;01mif\u001b[39;00m interruptible \u001b[38;5;129;01mor\u001b[39;00m timeout_scope\n\u001b[0;32m    608\u001b[0m             \u001b[38;5;28;01melse\u001b[39;00m run_sync_in_worker_thread\n\u001b[0;32m    609\u001b[0m         )\n\u001b[1;32m--> 610\u001b[0m         result \u001b[38;5;241m=\u001b[39m \u001b[38;5;28;01mawait\u001b[39;00m run_sync(flow_call)\n\u001b[0;32m    612\u001b[0m waited_for_task_runs \u001b[38;5;241m=\u001b[39m \u001b[38;5;28;01mawait\u001b[39;00m wait_for_task_runs_and_report_crashes(\n\u001b[0;32m    613\u001b[0m     flow_run_context\u001b[38;5;241m.\u001b[39mtask_run_futures, client\u001b[38;5;241m=\u001b[39mclient\n\u001b[0;32m    614\u001b[0m )\n",
      "File \u001b[1;32mD:\\Optimus\\autobot\\venv\\lib\\site-packages\\prefect\\utilities\\asyncutils.py:126\u001b[0m, in \u001b[0;36mrun_sync_in_interruptible_worker_thread\u001b[1;34m(__fn, *args, **kwargs)\u001b[0m\n\u001b[0;32m    124\u001b[0m         \u001b[38;5;28;01mraise\u001b[39;00m\n\u001b[1;32m--> 126\u001b[0m \u001b[38;5;28;01masync\u001b[39;00m \u001b[38;5;28;01mwith\u001b[39;00m anyio\u001b[38;5;241m.\u001b[39mcreate_task_group() \u001b[38;5;28;01mas\u001b[39;00m tg:\n\u001b[0;32m    127\u001b[0m     tg\u001b[38;5;241m.\u001b[39mstart_soon(send_interrupt_to_thread)\n",
      "File \u001b[1;32mD:\\Optimus\\autobot\\venv\\lib\\site-packages\\anyio\\_backends\\_asyncio.py:658\u001b[0m, in \u001b[0;36mTaskGroup.__aexit__\u001b[1;34m(self, exc_type, exc_val, exc_tb)\u001b[0m\n\u001b[0;32m    654\u001b[0m \u001b[38;5;28;01mif\u001b[39;00m \u001b[38;5;28mall\u001b[39m(\n\u001b[0;32m    655\u001b[0m     \u001b[38;5;28misinstance\u001b[39m(e, CancelledError) \u001b[38;5;129;01mand\u001b[39;00m \u001b[38;5;129;01mnot\u001b[39;00m e\u001b[38;5;241m.\u001b[39margs \u001b[38;5;28;01mfor\u001b[39;00m e \u001b[38;5;129;01min\u001b[39;00m exceptions\n\u001b[0;32m    656\u001b[0m ):\n\u001b[0;32m    657\u001b[0m     \u001b[38;5;66;03m# Tasks were cancelled natively, without a cancellation message\u001b[39;00m\n\u001b[1;32m--> 658\u001b[0m     \u001b[38;5;28;01mraise\u001b[39;00m CancelledError\n\u001b[0;32m    659\u001b[0m \u001b[38;5;28;01melse\u001b[39;00m:\n",
      "\u001b[1;31mCancelledError\u001b[0m: ",
      "\nDuring handling of the above exception, another exception occurred:\n",
      "\u001b[1;31mTimeoutError\u001b[0m                              Traceback (most recent call last)",
      "Cell \u001b[1;32mIn [43], line 14\u001b[0m\n\u001b[0;32m     10\u001b[0m         sleep(\u001b[38;5;241m20\u001b[39m)\n\u001b[0;32m     12\u001b[0m     combined_inner()\n\u001b[1;32m---> 14\u001b[0m \u001b[43mcombined\u001b[49m\u001b[43m(\u001b[49m\u001b[43m)\u001b[49m\n",
      "File \u001b[1;32mD:\\Optimus\\autobot\\venv\\lib\\site-packages\\prefect\\flows.py:442\u001b[0m, in \u001b[0;36mFlow.__call__\u001b[1;34m(self, return_state, wait_for, *args, **kwargs)\u001b[0m\n\u001b[0;32m    438\u001b[0m parameters \u001b[38;5;241m=\u001b[39m get_call_parameters(\u001b[38;5;28mself\u001b[39m\u001b[38;5;241m.\u001b[39mfn, args, kwargs)\n\u001b[0;32m    440\u001b[0m return_type \u001b[38;5;241m=\u001b[39m \u001b[38;5;124m\"\u001b[39m\u001b[38;5;124mstate\u001b[39m\u001b[38;5;124m\"\u001b[39m \u001b[38;5;28;01mif\u001b[39;00m return_state \u001b[38;5;28;01melse\u001b[39;00m \u001b[38;5;124m\"\u001b[39m\u001b[38;5;124mresult\u001b[39m\u001b[38;5;124m\"\u001b[39m\n\u001b[1;32m--> 442\u001b[0m \u001b[38;5;28;01mreturn\u001b[39;00m \u001b[43menter_flow_run_engine_from_flow_call\u001b[49m\u001b[43m(\u001b[49m\n\u001b[0;32m    443\u001b[0m \u001b[43m    \u001b[49m\u001b[38;5;28;43mself\u001b[39;49m\u001b[43m,\u001b[49m\n\u001b[0;32m    444\u001b[0m \u001b[43m    \u001b[49m\u001b[43mparameters\u001b[49m\u001b[43m,\u001b[49m\n\u001b[0;32m    445\u001b[0m \u001b[43m    \u001b[49m\u001b[43mwait_for\u001b[49m\u001b[38;5;241;43m=\u001b[39;49m\u001b[43mwait_for\u001b[49m\u001b[43m,\u001b[49m\n\u001b[0;32m    446\u001b[0m \u001b[43m    \u001b[49m\u001b[43mreturn_type\u001b[49m\u001b[38;5;241;43m=\u001b[39;49m\u001b[43mreturn_type\u001b[49m\u001b[43m,\u001b[49m\n\u001b[0;32m    447\u001b[0m \u001b[43m\u001b[49m\u001b[43m)\u001b[49m\n",
      "File \u001b[1;32mD:\\Optimus\\autobot\\venv\\lib\\site-packages\\prefect\\engine.py:154\u001b[0m, in \u001b[0;36menter_flow_run_engine_from_flow_call\u001b[1;34m(flow, parameters, wait_for, return_type)\u001b[0m\n\u001b[0;32m    150\u001b[0m \u001b[38;5;28;01melif\u001b[39;00m in_async_main_thread():\n\u001b[0;32m    151\u001b[0m     \u001b[38;5;66;03m# An event loop is already running and we must create a blocking portal to\u001b[39;00m\n\u001b[0;32m    152\u001b[0m     \u001b[38;5;66;03m# run async code from this synchronous context\u001b[39;00m\n\u001b[0;32m    153\u001b[0m     \u001b[38;5;28;01mwith\u001b[39;00m start_blocking_portal() \u001b[38;5;28;01mas\u001b[39;00m portal:\n\u001b[1;32m--> 154\u001b[0m         \u001b[38;5;28;01mreturn\u001b[39;00m \u001b[43mportal\u001b[49m\u001b[38;5;241;43m.\u001b[39;49m\u001b[43mcall\u001b[49m\u001b[43m(\u001b[49m\u001b[43mbegin_run\u001b[49m\u001b[43m)\u001b[49m\n\u001b[0;32m    155\u001b[0m \u001b[38;5;28;01melse\u001b[39;00m:\n\u001b[0;32m    156\u001b[0m     \u001b[38;5;66;03m# An event loop is not running so we will create one\u001b[39;00m\n\u001b[0;32m    157\u001b[0m     \u001b[38;5;28;01mreturn\u001b[39;00m anyio\u001b[38;5;241m.\u001b[39mrun(begin_run)\n",
      "File \u001b[1;32mD:\\Optimus\\autobot\\venv\\lib\\site-packages\\anyio\\from_thread.py:283\u001b[0m, in \u001b[0;36mBlockingPortal.call\u001b[1;34m(self, func, *args)\u001b[0m\n\u001b[0;32m    268\u001b[0m \u001b[38;5;28;01mdef\u001b[39;00m \u001b[38;5;21mcall\u001b[39m(\n\u001b[0;32m    269\u001b[0m     \u001b[38;5;28mself\u001b[39m,\n\u001b[0;32m    270\u001b[0m     func: Callable[\u001b[38;5;241m.\u001b[39m\u001b[38;5;241m.\u001b[39m\u001b[38;5;241m.\u001b[39m, Union[Coroutine[Any, Any, T_Retval], T_Retval]],\n\u001b[0;32m    271\u001b[0m     \u001b[38;5;241m*\u001b[39margs: \u001b[38;5;28mobject\u001b[39m\n\u001b[0;32m    272\u001b[0m ) \u001b[38;5;241m-\u001b[39m\u001b[38;5;241m>\u001b[39m T_Retval:\n\u001b[0;32m    273\u001b[0m     \u001b[38;5;124;03m\"\"\"\u001b[39;00m\n\u001b[0;32m    274\u001b[0m \u001b[38;5;124;03m    Call the given function in the event loop thread.\u001b[39;00m\n\u001b[0;32m    275\u001b[0m \n\u001b[1;32m   (...)\u001b[0m\n\u001b[0;32m    281\u001b[0m \n\u001b[0;32m    282\u001b[0m \u001b[38;5;124;03m    \"\"\"\u001b[39;00m\n\u001b[1;32m--> 283\u001b[0m     \u001b[38;5;28;01mreturn\u001b[39;00m cast(T_Retval, \u001b[38;5;28;43mself\u001b[39;49m\u001b[38;5;241;43m.\u001b[39;49m\u001b[43mstart_task_soon\u001b[49m\u001b[43m(\u001b[49m\u001b[43mfunc\u001b[49m\u001b[43m,\u001b[49m\u001b[43m \u001b[49m\u001b[38;5;241;43m*\u001b[39;49m\u001b[43margs\u001b[49m\u001b[43m)\u001b[49m\u001b[38;5;241;43m.\u001b[39;49m\u001b[43mresult\u001b[49m\u001b[43m(\u001b[49m\u001b[43m)\u001b[49m)\n",
      "File \u001b[1;32mC:\\Python310\\lib\\concurrent\\futures\\_base.py:458\u001b[0m, in \u001b[0;36mFuture.result\u001b[1;34m(self, timeout)\u001b[0m\n\u001b[0;32m    456\u001b[0m     \u001b[38;5;28;01mraise\u001b[39;00m CancelledError()\n\u001b[0;32m    457\u001b[0m \u001b[38;5;28;01melif\u001b[39;00m \u001b[38;5;28mself\u001b[39m\u001b[38;5;241m.\u001b[39m_state \u001b[38;5;241m==\u001b[39m FINISHED:\n\u001b[1;32m--> 458\u001b[0m     \u001b[38;5;28;01mreturn\u001b[39;00m \u001b[38;5;28;43mself\u001b[39;49m\u001b[38;5;241;43m.\u001b[39;49m\u001b[43m__get_result\u001b[49m\u001b[43m(\u001b[49m\u001b[43m)\u001b[49m\n\u001b[0;32m    459\u001b[0m \u001b[38;5;28;01melse\u001b[39;00m:\n\u001b[0;32m    460\u001b[0m     \u001b[38;5;28;01mraise\u001b[39;00m \u001b[38;5;167;01mTimeoutError\u001b[39;00m()\n",
      "File \u001b[1;32mC:\\Python310\\lib\\concurrent\\futures\\_base.py:403\u001b[0m, in \u001b[0;36mFuture.__get_result\u001b[1;34m(self)\u001b[0m\n\u001b[0;32m    401\u001b[0m \u001b[38;5;28;01mif\u001b[39;00m \u001b[38;5;28mself\u001b[39m\u001b[38;5;241m.\u001b[39m_exception:\n\u001b[0;32m    402\u001b[0m     \u001b[38;5;28;01mtry\u001b[39;00m:\n\u001b[1;32m--> 403\u001b[0m         \u001b[38;5;28;01mraise\u001b[39;00m \u001b[38;5;28mself\u001b[39m\u001b[38;5;241m.\u001b[39m_exception\n\u001b[0;32m    404\u001b[0m     \u001b[38;5;28;01mfinally\u001b[39;00m:\n\u001b[0;32m    405\u001b[0m         \u001b[38;5;66;03m# Break a reference cycle with the exception in self._exception\u001b[39;00m\n\u001b[0;32m    406\u001b[0m         \u001b[38;5;28mself\u001b[39m \u001b[38;5;241m=\u001b[39m \u001b[38;5;28;01mNone\u001b[39;00m\n",
      "File \u001b[1;32mD:\\Optimus\\autobot\\venv\\lib\\site-packages\\anyio\\from_thread.py:219\u001b[0m, in \u001b[0;36mBlockingPortal._call_func\u001b[1;34m(self, func, args, kwargs, future)\u001b[0m\n\u001b[0;32m    216\u001b[0m             \u001b[38;5;28;01melse\u001b[39;00m:\n\u001b[0;32m    217\u001b[0m                 future\u001b[38;5;241m.\u001b[39madd_done_callback(callback)\n\u001b[1;32m--> 219\u001b[0m             retval \u001b[38;5;241m=\u001b[39m \u001b[38;5;28;01mawait\u001b[39;00m retval\n\u001b[0;32m    220\u001b[0m \u001b[38;5;28;01mexcept\u001b[39;00m \u001b[38;5;28mself\u001b[39m\u001b[38;5;241m.\u001b[39m_cancelled_exc_class:\n\u001b[0;32m    221\u001b[0m     future\u001b[38;5;241m.\u001b[39mcancel()\n",
      "File \u001b[1;32mD:\\Optimus\\autobot\\venv\\lib\\site-packages\\prefect\\client\\utilities.py:47\u001b[0m, in \u001b[0;36minject_client.<locals>.with_injected_client\u001b[1;34m(*args, **kwargs)\u001b[0m\n\u001b[0;32m     45\u001b[0m \u001b[38;5;28;01masync\u001b[39;00m \u001b[38;5;28;01mwith\u001b[39;00m client_context \u001b[38;5;28;01mas\u001b[39;00m new_client:\n\u001b[0;32m     46\u001b[0m     kwargs\u001b[38;5;241m.\u001b[39msetdefault(\u001b[38;5;124m\"\u001b[39m\u001b[38;5;124mclient\u001b[39m\u001b[38;5;124m\"\u001b[39m, new_client \u001b[38;5;129;01mor\u001b[39;00m client)\n\u001b[1;32m---> 47\u001b[0m     \u001b[38;5;28;01mreturn\u001b[39;00m \u001b[38;5;28;01mawait\u001b[39;00m fn(\u001b[38;5;241m*\u001b[39margs, \u001b[38;5;241m*\u001b[39m\u001b[38;5;241m*\u001b[39mkwargs)\n",
      "File \u001b[1;32mD:\\Optimus\\autobot\\venv\\lib\\site-packages\\prefect\\engine.py:237\u001b[0m, in \u001b[0;36mcreate_then_begin_flow_run\u001b[1;34m(flow, parameters, wait_for, return_type, client)\u001b[0m\n\u001b[0;32m    235\u001b[0m     \u001b[38;5;28;01mreturn\u001b[39;00m state\n\u001b[0;32m    236\u001b[0m \u001b[38;5;28;01melif\u001b[39;00m return_type \u001b[38;5;241m==\u001b[39m \u001b[38;5;124m\"\u001b[39m\u001b[38;5;124mresult\u001b[39m\u001b[38;5;124m\"\u001b[39m:\n\u001b[1;32m--> 237\u001b[0m     \u001b[38;5;28;01mreturn\u001b[39;00m \u001b[38;5;28;01mawait\u001b[39;00m state\u001b[38;5;241m.\u001b[39mresult(fetch\u001b[38;5;241m=\u001b[39m\u001b[38;5;28;01mTrue\u001b[39;00m)\n\u001b[0;32m    238\u001b[0m \u001b[38;5;28;01melse\u001b[39;00m:\n\u001b[0;32m    239\u001b[0m     \u001b[38;5;28;01mraise\u001b[39;00m \u001b[38;5;167;01mValueError\u001b[39;00m(\u001b[38;5;124mf\u001b[39m\u001b[38;5;124m\"\u001b[39m\u001b[38;5;124mInvalid return type for flow engine \u001b[39m\u001b[38;5;132;01m{\u001b[39;00mreturn_type\u001b[38;5;132;01m!r}\u001b[39;00m\u001b[38;5;124m.\u001b[39m\u001b[38;5;124m\"\u001b[39m)\n",
      "File \u001b[1;32mD:\\Optimus\\autobot\\venv\\lib\\site-packages\\prefect\\states.py:74\u001b[0m, in \u001b[0;36m_get_state_result\u001b[1;34m(state, raise_on_failure)\u001b[0m\n\u001b[0;32m     70\u001b[0m \u001b[38;5;124;03m\"\"\"\u001b[39;00m\n\u001b[0;32m     71\u001b[0m \u001b[38;5;124;03mInternal implementation for `get_state_result` without async backwards compatibility\u001b[39;00m\n\u001b[0;32m     72\u001b[0m \u001b[38;5;124;03m\"\"\"\u001b[39;00m\n\u001b[0;32m     73\u001b[0m \u001b[38;5;28;01mif\u001b[39;00m raise_on_failure \u001b[38;5;129;01mand\u001b[39;00m (state\u001b[38;5;241m.\u001b[39mis_crashed() \u001b[38;5;129;01mor\u001b[39;00m state\u001b[38;5;241m.\u001b[39mis_failed()):\n\u001b[1;32m---> 74\u001b[0m     \u001b[38;5;28;01mraise\u001b[39;00m \u001b[38;5;28;01mawait\u001b[39;00m get_state_exception(state)\n\u001b[0;32m     76\u001b[0m \u001b[38;5;28;01mif\u001b[39;00m \u001b[38;5;28misinstance\u001b[39m(state\u001b[38;5;241m.\u001b[39mdata, DataDocument):\n\u001b[0;32m     77\u001b[0m     result \u001b[38;5;241m=\u001b[39m result_from_state_with_data_document(\n\u001b[0;32m     78\u001b[0m         state, raise_on_failure\u001b[38;5;241m=\u001b[39mraise_on_failure\n\u001b[0;32m     79\u001b[0m     )\n",
      "File \u001b[1;32mD:\\Optimus\\autobot\\venv\\lib\\site-packages\\prefect\\engine.py:581\u001b[0m, in \u001b[0;36morchestrate_flow_run\u001b[1;34m(flow, flow_run, parameters, wait_for, interruptible, client, partial_flow_run_context)\u001b[0m\n\u001b[0;32m    579\u001b[0m flow_run \u001b[38;5;241m=\u001b[39m \u001b[38;5;28;01mawait\u001b[39;00m client\u001b[38;5;241m.\u001b[39mread_flow_run(flow_run\u001b[38;5;241m.\u001b[39mid)\n\u001b[0;32m    580\u001b[0m \u001b[38;5;28;01mtry\u001b[39;00m:\n\u001b[1;32m--> 581\u001b[0m     \u001b[38;5;28;01mwith\u001b[39;00m timeout_context \u001b[38;5;28;01mas\u001b[39;00m timeout_scope:\n\u001b[0;32m    582\u001b[0m         \u001b[38;5;28;01mwith\u001b[39;00m partial_flow_run_context\u001b[38;5;241m.\u001b[39mfinalize(\n\u001b[0;32m    583\u001b[0m             flow\u001b[38;5;241m=\u001b[39mflow,\n\u001b[0;32m    584\u001b[0m             flow_run\u001b[38;5;241m=\u001b[39mflow_run,\n\u001b[0;32m    585\u001b[0m             client\u001b[38;5;241m=\u001b[39mclient,\n\u001b[0;32m    586\u001b[0m             timeout_scope\u001b[38;5;241m=\u001b[39mtimeout_scope,\n\u001b[0;32m    587\u001b[0m         ) \u001b[38;5;28;01mas\u001b[39;00m flow_run_context:\n\u001b[0;32m    588\u001b[0m             args, kwargs \u001b[38;5;241m=\u001b[39m parameters_to_args_kwargs(flow\u001b[38;5;241m.\u001b[39mfn, parameters)\n",
      "File \u001b[1;32mD:\\Optimus\\autobot\\venv\\lib\\site-packages\\anyio\\_core\\_tasks.py:118\u001b[0m, in \u001b[0;36mFailAfterContextManager.__exit__\u001b[1;34m(self, exc_type, exc_val, exc_tb)\u001b[0m\n\u001b[0;32m    116\u001b[0m retval \u001b[38;5;241m=\u001b[39m \u001b[38;5;28mself\u001b[39m\u001b[38;5;241m.\u001b[39m_cancel_scope\u001b[38;5;241m.\u001b[39m\u001b[38;5;21m__exit__\u001b[39m(exc_type, exc_val, exc_tb)\n\u001b[0;32m    117\u001b[0m \u001b[38;5;28;01mif\u001b[39;00m \u001b[38;5;28mself\u001b[39m\u001b[38;5;241m.\u001b[39m_cancel_scope\u001b[38;5;241m.\u001b[39mcancel_called:\n\u001b[1;32m--> 118\u001b[0m     \u001b[38;5;28;01mraise\u001b[39;00m \u001b[38;5;167;01mTimeoutError\u001b[39;00m\n\u001b[0;32m    120\u001b[0m \u001b[38;5;28;01mreturn\u001b[39;00m retval\n",
      "\u001b[1;31mTimeoutError\u001b[0m: "
     ]
    }
   ],
   "source": [
    "from prefect import flow, task\n",
    "from time import sleep\n",
    "\n",
    "@flow(timeout_seconds=10)\n",
    "def combined():\n",
    "\n",
    "    @task\n",
    "    def combined_inner():\n",
    "        print(\"Do something\")\n",
    "        sleep(20)\n",
    "\n",
    "    combined_inner()\n",
    "\n",
    "combined()"
   ]
  },
  {
   "cell_type": "code",
   "execution_count": 1,
   "id": "b203eb18",
   "metadata": {},
   "outputs": [
    {
     "ename": "RuntimeError",
     "evalue": "asyncio.run() cannot be called from a running event loop",
     "output_type": "error",
     "traceback": [
      "\u001b[1;31m---------------------------------------------------------------------------\u001b[0m",
      "\u001b[1;31mRuntimeError\u001b[0m                              Traceback (most recent call last)",
      "Cell \u001b[1;32mIn [1], line 6\u001b[0m\n\u001b[0;32m      4\u001b[0m client \u001b[38;5;241m=\u001b[39m get_client()\n\u001b[0;32m      5\u001b[0m resp \u001b[38;5;241m=\u001b[39m client\u001b[38;5;241m.\u001b[39mread_flow_runs()\n\u001b[1;32m----> 6\u001b[0m res \u001b[38;5;241m=\u001b[39m \u001b[43masyncio\u001b[49m\u001b[38;5;241;43m.\u001b[39;49m\u001b[43mrun\u001b[49m\u001b[43m(\u001b[49m\u001b[43mresp\u001b[49m\u001b[43m)\u001b[49m\n\u001b[0;32m      7\u001b[0m \u001b[38;5;28mprint\u001b[39m(res)\n",
      "File \u001b[1;32mC:\\Python310\\lib\\asyncio\\runners.py:33\u001b[0m, in \u001b[0;36mrun\u001b[1;34m(main, debug)\u001b[0m\n\u001b[0;32m      9\u001b[0m \u001b[38;5;124;03m\"\"\"Execute the coroutine and return the result.\u001b[39;00m\n\u001b[0;32m     10\u001b[0m \n\u001b[0;32m     11\u001b[0m \u001b[38;5;124;03mThis function runs the passed coroutine, taking care of\u001b[39;00m\n\u001b[1;32m   (...)\u001b[0m\n\u001b[0;32m     30\u001b[0m \u001b[38;5;124;03m    asyncio.run(main())\u001b[39;00m\n\u001b[0;32m     31\u001b[0m \u001b[38;5;124;03m\"\"\"\u001b[39;00m\n\u001b[0;32m     32\u001b[0m \u001b[38;5;28;01mif\u001b[39;00m events\u001b[38;5;241m.\u001b[39m_get_running_loop() \u001b[38;5;129;01mis\u001b[39;00m \u001b[38;5;129;01mnot\u001b[39;00m \u001b[38;5;28;01mNone\u001b[39;00m:\n\u001b[1;32m---> 33\u001b[0m     \u001b[38;5;28;01mraise\u001b[39;00m \u001b[38;5;167;01mRuntimeError\u001b[39;00m(\n\u001b[0;32m     34\u001b[0m         \u001b[38;5;124m\"\u001b[39m\u001b[38;5;124masyncio.run() cannot be called from a running event loop\u001b[39m\u001b[38;5;124m\"\u001b[39m)\n\u001b[0;32m     36\u001b[0m \u001b[38;5;28;01mif\u001b[39;00m \u001b[38;5;129;01mnot\u001b[39;00m coroutines\u001b[38;5;241m.\u001b[39miscoroutine(main):\n\u001b[0;32m     37\u001b[0m     \u001b[38;5;28;01mraise\u001b[39;00m \u001b[38;5;167;01mValueError\u001b[39;00m(\u001b[38;5;124m\"\u001b[39m\u001b[38;5;124ma coroutine was expected, got \u001b[39m\u001b[38;5;132;01m{!r}\u001b[39;00m\u001b[38;5;124m\"\u001b[39m\u001b[38;5;241m.\u001b[39mformat(main))\n",
      "\u001b[1;31mRuntimeError\u001b[0m: asyncio.run() cannot be called from a running event loop"
     ]
    }
   ],
   "source": [
    "import asyncio\n",
    "from prefect.client.orion import get_client\n",
    "\n",
    "client = get_client()\n",
    "resp = client.read_flow_runs()\n",
    "res = asyncio.run(resp)\n",
    "print(res)"
   ]
  },
  {
   "cell_type": "code",
   "execution_count": 2,
   "id": "aee5a2ba",
   "metadata": {},
   "outputs": [
    {
     "ename": "RuntimeError",
     "evalue": "asyncio.run() cannot be called from a running event loop",
     "output_type": "error",
     "traceback": [
      "\u001b[1;31m---------------------------------------------------------------------------\u001b[0m",
      "\u001b[1;31mRuntimeError\u001b[0m                              Traceback (most recent call last)",
      "Cell \u001b[1;32mIn [2], line 5\u001b[0m\n\u001b[0;32m      2\u001b[0m    \u001b[38;5;28;01masync\u001b[39;00m \u001b[38;5;28;01mwith\u001b[39;00m get_client() \u001b[38;5;28;01mas\u001b[39;00m client:\n\u001b[0;32m      3\u001b[0m        \u001b[38;5;28;01mreturn\u001b[39;00m \u001b[38;5;28;01mawait\u001b[39;00m client\u001b[38;5;241m.\u001b[39mread_flow_runs()\n\u001b[1;32m----> 5\u001b[0m result \u001b[38;5;241m=\u001b[39m \u001b[43masyncio\u001b[49m\u001b[38;5;241;43m.\u001b[39;49m\u001b[43mrun\u001b[49m\u001b[43m(\u001b[49m\u001b[43mmain\u001b[49m\u001b[43m(\u001b[49m\u001b[43m)\u001b[49m\u001b[43m)\u001b[49m\n\u001b[0;32m      6\u001b[0m \u001b[38;5;28mprint\u001b[39m(result)\n",
      "File \u001b[1;32mC:\\Python310\\lib\\asyncio\\runners.py:33\u001b[0m, in \u001b[0;36mrun\u001b[1;34m(main, debug)\u001b[0m\n\u001b[0;32m      9\u001b[0m \u001b[38;5;124;03m\"\"\"Execute the coroutine and return the result.\u001b[39;00m\n\u001b[0;32m     10\u001b[0m \n\u001b[0;32m     11\u001b[0m \u001b[38;5;124;03mThis function runs the passed coroutine, taking care of\u001b[39;00m\n\u001b[1;32m   (...)\u001b[0m\n\u001b[0;32m     30\u001b[0m \u001b[38;5;124;03m    asyncio.run(main())\u001b[39;00m\n\u001b[0;32m     31\u001b[0m \u001b[38;5;124;03m\"\"\"\u001b[39;00m\n\u001b[0;32m     32\u001b[0m \u001b[38;5;28;01mif\u001b[39;00m events\u001b[38;5;241m.\u001b[39m_get_running_loop() \u001b[38;5;129;01mis\u001b[39;00m \u001b[38;5;129;01mnot\u001b[39;00m \u001b[38;5;28;01mNone\u001b[39;00m:\n\u001b[1;32m---> 33\u001b[0m     \u001b[38;5;28;01mraise\u001b[39;00m \u001b[38;5;167;01mRuntimeError\u001b[39;00m(\n\u001b[0;32m     34\u001b[0m         \u001b[38;5;124m\"\u001b[39m\u001b[38;5;124masyncio.run() cannot be called from a running event loop\u001b[39m\u001b[38;5;124m\"\u001b[39m)\n\u001b[0;32m     36\u001b[0m \u001b[38;5;28;01mif\u001b[39;00m \u001b[38;5;129;01mnot\u001b[39;00m coroutines\u001b[38;5;241m.\u001b[39miscoroutine(main):\n\u001b[0;32m     37\u001b[0m     \u001b[38;5;28;01mraise\u001b[39;00m \u001b[38;5;167;01mValueError\u001b[39;00m(\u001b[38;5;124m\"\u001b[39m\u001b[38;5;124ma coroutine was expected, got \u001b[39m\u001b[38;5;132;01m{!r}\u001b[39;00m\u001b[38;5;124m\"\u001b[39m\u001b[38;5;241m.\u001b[39mformat(main))\n",
      "\u001b[1;31mRuntimeError\u001b[0m: asyncio.run() cannot be called from a running event loop"
     ]
    }
   ],
   "source": [
    "async def main():\n",
    "   async with get_client() as client:\n",
    "       return await client.read_flow_runs()\n",
    "\n",
    "result = asyncio.run(main())\n",
    "print(result)"
   ]
  },
  {
   "cell_type": "code",
   "execution_count": 19,
   "id": "d7ee6ece",
   "metadata": {},
   "outputs": [
    {
     "name": "stdout",
     "output_type": "stream",
     "text": [
      "200\n",
      "id=UUID('ea11ed67-ce96-45c9-a904-6d9b6db0c4fb') name='inquisitive-raven' flow_id=UUID('ed783d4e-c623-4434-8f13-6798595d5dba') state_id=UUID('7cf65cfa-b640-4df7-bc5d-93054a804d6d') deployment_id=None work_queue_name=None flow_version='3206381aec1c18a2c5dcfc49a7152db6' parameters={'file': 'diorOrder-CDAPHKGRPA03', 'flowrun': 1, 'deploymentname': ''} idempotency_key=None context={} empirical_policy=FlowRunPolicy(max_retries=0, retry_delay_seconds=0.0, retries=0, retry_delay=0) tags=[] parent_task_run_id=None state_type=StateType.FAILED state_name='Failed' run_count=1 expected_start_time=DateTime(2022, 10, 21, 10, 55, 29, 12866, tzinfo=Timezone('+00:00')) next_scheduled_start_time=None start_time=DateTime(2022, 10, 21, 10, 55, 29, 216060, tzinfo=Timezone('+00:00')) end_time=DateTime(2022, 10, 21, 10, 55, 31, 169275, tzinfo=Timezone('+00:00')) total_run_time=datetime.timedelta(seconds=1, microseconds=953215) estimated_run_time=datetime.timedelta(seconds=1, microseconds=953215) estimated_start_time_delta=datetime.timedelta(microseconds=203194) auto_scheduled=False infrastructure_document_id=None created_by=None state=Failed(message='Flow run encountered an exception. Traceback (most recent call last):\\n  File \"D:\\\\Optimus-Prefect-Test1\\\\autobot\\\\src\\\\general_automation\\\\run.py\", line 232, in flowExecute\\n    result = main_flow.with_options(name=flowname)(startfile=file, startsheet=config.STARTSHEET, startcode=config.STARTCODE, \\\\\\n  File \"D:\\\\Optimus-Prefect-Test1\\\\autobot\\\\venv\\\\lib\\\\site-packages\\\\prefect\\\\flows.py\", line 429, in __call__\\n    return enter_flow_run_engine_from_flow_call(\\n  File \"D:\\\\Optimus-Prefect-Test1\\\\autobot\\\\venv\\\\lib\\\\site-packages\\\\prefect\\\\engine.py\", line 154, in enter_flow_run_engine_from_flow_call\\n    return run_async_from_worker_thread(begin_run)\\n  File \"D:\\\\Optimus-Prefect-Test1\\\\autobot\\\\venv\\\\lib\\\\site-packages\\\\prefect\\\\utilities\\\\asyncutils.py\", line 148, in run_async_from_worker_thread\\n    return anyio.from_thread.run(call)\\n  File \"D:\\\\Optimus-Prefect-Test1\\\\autobot\\\\venv\\\\lib\\\\site-packages\\\\anyio\\\\from_thread.py\", line 49, in run\\n    return asynclib.run_async_from_thread(func, *args)\\n  File \"D:\\\\Optimus-Prefect-Test1\\\\autobot\\\\venv\\\\lib\\\\site-packages\\\\anyio\\\\_backends\\\\_asyncio.py\", line 970, in run_async_from_thread\\n    return f.result()\\n  File \"C:\\\\Python310\\\\lib\\\\concurrent\\\\futures\\\\_base.py\", line 458, in result\\n    return self.__get_result()\\n  File \"C:\\\\Python310\\\\lib\\\\concurrent\\\\futures\\\\_base.py\", line 403, in __get_result\\n    raise self._exception\\n  File \"D:\\\\Optimus-Prefect-Test1\\\\autobot\\\\venv\\\\lib\\\\site-packages\\\\prefect\\\\client\\\\utilities.py\", line 47, in with_injected_client\\n    return await fn(*args, **kwargs)\\n  File \"D:\\\\Optimus-Prefect-Test1\\\\autobot\\\\venv\\\\lib\\\\site-packages\\\\prefect\\\\engine.py\", line 504, in create_and_begin_subflow_run\\n    return await terminal_state.result(fetch=True)\\n  File \"D:\\\\Optimus-Prefect-Test1\\\\autobot\\\\venv\\\\lib\\\\site-packages\\\\prefect\\\\states.py\", line 74, in _get_state_result\\n    raise await get_state_exception(state)\\n  File \"D:\\\\Optimus-Prefect-Test1\\\\autobot\\\\venv\\\\lib\\\\site-packages\\\\prefect\\\\engine.py\", line 578, in orchestrate_flow_run\\n    result = await run_sync(flow_call)\\n  File \"D:\\\\Optimus-Prefect-Test1\\\\autobot\\\\venv\\\\lib\\\\site-packages\\\\prefect\\\\utilities\\\\asyncutils.py\", line 68, in run_sync_in_worker_thread\\n    return await anyio.to_thread.run_sync(call, cancellable=True)\\n  File \"D:\\\\Optimus-Prefect-Test1\\\\autobot\\\\venv\\\\lib\\\\site-packages\\\\anyio\\\\to_thread.py\", line 31, in run_sync\\n    return await get_asynclib().run_sync_in_worker_thread(\\n  File \"D:\\\\Optimus-Prefect-Test1\\\\autobot\\\\venv\\\\lib\\\\site-packages\\\\anyio\\\\_backends\\\\_asyncio.py\", line 937, in run_sync_in_worker_thread\\n    return await future\\n  File \"D:\\\\Optimus-Prefect-Test1\\\\autobot\\\\venv\\\\lib\\\\site-packages\\\\anyio\\\\_backends\\\\_asyncio.py\", line 867, in run\\n    result = context.run(func, *args)\\n  File \"D:\\\\Optimus-Prefect-Test1\\\\autobot\\\\src\\\\general_automation\\\\run.py\", line 135, in main_flow\\n    req = MyRequest(10, mydataset)\\nNameError: name \\'MyRequest\\' is not defined\\n\\nDuring handling of the above exception, another exception occurred:\\n\\nValueError: Software Error: name \\'MyRequest\\' is not defined\\n', type=FAILED, result=None)\n"
     ]
    }
   ],
   "source": [
    "from prefect.client.orion import get_client\n",
    "async with get_client() as client:\n",
    "    #response = await client.hello()\n",
    "    response = await client.read_flow_runs()\n",
    "    #print(response.json())\n",
    "    print(len(response))\n",
    "    print((response[199]))"
   ]
  },
  {
   "cell_type": "code",
   "execution_count": 21,
   "id": "278ff1e2",
   "metadata": {},
   "outputs": [
    {
     "ename": "RuntimeError",
     "evalue": "asyncio.run() cannot be called from a running event loop",
     "output_type": "error",
     "traceback": [
      "\u001b[1;31m---------------------------------------------------------------------------\u001b[0m",
      "\u001b[1;31mRuntimeError\u001b[0m                              Traceback (most recent call last)",
      "Cell \u001b[1;32mIn [21], line 22\u001b[0m\n\u001b[0;32m     19\u001b[0m     logger\u001b[38;5;241m.\u001b[39minfo(\u001b[38;5;124mf\u001b[39m\u001b[38;5;124m\"\u001b[39m\u001b[38;5;124mThis is run number \u001b[39m\u001b[38;5;132;01m{\u001b[39;00m\u001b[38;5;28mlen\u001b[39m(flow_runs)\u001b[38;5;132;01m}\u001b[39;00m\u001b[38;5;124m of flow \u001b[39m\u001b[38;5;132;01m{\u001b[39;00mflow_id\u001b[38;5;132;01m}\u001b[39;00m\u001b[38;5;124m\"\u001b[39m)\n\u001b[0;32m     21\u001b[0m \u001b[38;5;28;01mif\u001b[39;00m \u001b[38;5;18m__name__\u001b[39m \u001b[38;5;241m==\u001b[39m \u001b[38;5;124m\"\u001b[39m\u001b[38;5;124m__main__\u001b[39m\u001b[38;5;124m\"\u001b[39m:\n\u001b[1;32m---> 22\u001b[0m     \u001b[43masyncio\u001b[49m\u001b[38;5;241;43m.\u001b[39;49m\u001b[43mrun\u001b[49m\u001b[43m(\u001b[49m\u001b[43mget_count_flow_runs\u001b[49m\u001b[43m(\u001b[49m\u001b[43m)\u001b[49m\u001b[43m)\u001b[49m\n",
      "File \u001b[1;32mC:\\Python310\\lib\\asyncio\\runners.py:33\u001b[0m, in \u001b[0;36mrun\u001b[1;34m(main, debug)\u001b[0m\n\u001b[0;32m      9\u001b[0m \u001b[38;5;124;03m\"\"\"Execute the coroutine and return the result.\u001b[39;00m\n\u001b[0;32m     10\u001b[0m \n\u001b[0;32m     11\u001b[0m \u001b[38;5;124;03mThis function runs the passed coroutine, taking care of\u001b[39;00m\n\u001b[1;32m   (...)\u001b[0m\n\u001b[0;32m     30\u001b[0m \u001b[38;5;124;03m    asyncio.run(main())\u001b[39;00m\n\u001b[0;32m     31\u001b[0m \u001b[38;5;124;03m\"\"\"\u001b[39;00m\n\u001b[0;32m     32\u001b[0m \u001b[38;5;28;01mif\u001b[39;00m events\u001b[38;5;241m.\u001b[39m_get_running_loop() \u001b[38;5;129;01mis\u001b[39;00m \u001b[38;5;129;01mnot\u001b[39;00m \u001b[38;5;28;01mNone\u001b[39;00m:\n\u001b[1;32m---> 33\u001b[0m     \u001b[38;5;28;01mraise\u001b[39;00m \u001b[38;5;167;01mRuntimeError\u001b[39;00m(\n\u001b[0;32m     34\u001b[0m         \u001b[38;5;124m\"\u001b[39m\u001b[38;5;124masyncio.run() cannot be called from a running event loop\u001b[39m\u001b[38;5;124m\"\u001b[39m)\n\u001b[0;32m     36\u001b[0m \u001b[38;5;28;01mif\u001b[39;00m \u001b[38;5;129;01mnot\u001b[39;00m coroutines\u001b[38;5;241m.\u001b[39miscoroutine(main):\n\u001b[0;32m     37\u001b[0m     \u001b[38;5;28;01mraise\u001b[39;00m \u001b[38;5;167;01mValueError\u001b[39;00m(\u001b[38;5;124m\"\u001b[39m\u001b[38;5;124ma coroutine was expected, got \u001b[39m\u001b[38;5;132;01m{!r}\u001b[39;00m\u001b[38;5;124m\"\u001b[39m\u001b[38;5;241m.\u001b[39mformat(main))\n",
      "\u001b[1;31mRuntimeError\u001b[0m: asyncio.run() cannot be called from a running event loop"
     ]
    }
   ],
   "source": [
    "import asyncio\n",
    "\n",
    "from prefect import task, flow, get_run_logger\n",
    "from prefect.client import get_client\n",
    "from prefect.context import get_run_context\n",
    "from prefect.orion.schemas.filters import FlowFilter, FlowFilterId\n",
    "\n",
    "@flow\n",
    "async def get_count_flow_runs():\n",
    "    logger = get_run_logger()\n",
    "    context = get_run_context().flow_run.dict()\n",
    "    flow_id = context['flow_id']\n",
    "\n",
    "    client = get_client()\n",
    "    flow_runs = await client.read_flow_runs(\n",
    "        flow_filter=FlowFilter(id=FlowFilterId(any_=[flow_id]))\n",
    "    )\n",
    "\n",
    "    logger.info(f\"This is run number {len(flow_runs)} of flow {flow_id}\")\n",
    "\n",
    "if __name__ == \"__main__\":\n",
    "    asyncio.run(get_count_flow_runs())"
   ]
  },
  {
   "cell_type": "code",
   "execution_count": null,
   "id": "97a4cc8c",
   "metadata": {},
   "outputs": [],
   "source": []
  }
 ],
 "metadata": {
  "kernelspec": {
   "display_name": "Python 3 (ipykernel)",
   "language": "python",
   "name": "python3"
  },
  "language_info": {
   "codemirror_mode": {
    "name": "ipython",
    "version": 3
   },
   "file_extension": ".py",
   "mimetype": "text/x-python",
   "name": "python",
   "nbconvert_exporter": "python",
   "pygments_lexer": "ipython3",
   "version": "3.10.7"
  }
 },
 "nbformat": 4,
 "nbformat_minor": 5
}
