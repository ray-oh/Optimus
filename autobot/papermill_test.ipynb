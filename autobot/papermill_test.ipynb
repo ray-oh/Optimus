{
 "cells": [
  {
   "cell_type": "code",
   "execution_count": 2,
   "id": "f10d7874",
   "metadata": {},
   "outputs": [
    {
     "name": "stderr",
     "output_type": "stream",
     "text": [
      "Black is not installed, parameters wont be formatted\n",
      "Executing: 100%|███████████████████████████████████████████████████████████████████████| 4/4 [00:02<00:00,  1.45cell/s]\n"
     ]
    }
   ],
   "source": [
    "import papermill as pm\n",
    "\n",
    "name = \"Matt\"\n",
    "res = pm.execute_notebook(\n",
    "    'papermill_example1.ipynb',\n",
    "    'papermill_{name}.ipynb',\n",
    "    parameters = dict(name=name)\n",
    ")"
   ]
  },
  {
   "cell_type": "code",
   "execution_count": 3,
   "id": "8f9d999a",
   "metadata": {},
   "outputs": [
    {
     "name": "stderr",
     "output_type": "stream",
     "text": [
      "Black is not installed, parameters wont be formatted\n",
      "C:\\Users\\roh\\Documents\\python\\Optimus\\autobot\\venv\\lib\\site-packages\\tqdm\\auto.py:22: TqdmWarning: IProgress not found. Please update jupyter and ipywidgets. See https://ipywidgets.readthedocs.io/en/stable/user_install.html\n",
      "  from .autonotebook import tqdm as notebook_tqdm\n"
     ]
    },
    {
     "name": "stdout",
     "output_type": "stream",
     "text": [
      "{'file': 'C:/Users/roh/Downloads/d5c7a4f7-b9a7-4d1e-904e-ce7349e0f27c.xlsx', 'country': 'All'}\n",
      "C:/Users/roh/Downloads/d5c7a4f7-b9a7-4d1e-904e-ce7349e0f27c.xlsx\n",
      "All\n"
     ]
    },
    {
     "name": "stderr",
     "output_type": "stream",
     "text": [
      "Executing: 100%|███████████████████████████████████████████████████████████████████████| 9/9 [00:04<00:00,  1.82cell/s]\n"
     ]
    }
   ],
   "source": [
    "import papermill as pm\n",
    "\n",
    "file = r'C:\\Users\\roh\\Downloads\\d5c7a4f7-b9a7-4d1e-904e-ce7349e0f27c.xlsx'\n",
    "country = 'All'\n",
    "\n",
    "import json\n",
    "\n",
    "#jsonString = '{\"file\":\"C:\\\\Users\\\\roh\\\\Downloads\\\\d5c7a4f7-b9a7-4d1e-904e-ce7349e0f27c.xlsx\", \"country\": \"All\"}'\n",
    "jsonString = '{\"file\": \"C:/Users/roh/Downloads/d5c7a4f7-b9a7-4d1e-904e-ce7349e0f27c.xlsx\", \"country\": \"All\"}'\n",
    "\n",
    "paramDict = json.loads(jsonString)\n",
    "print(paramDict)\n",
    "print(paramDict['file'])\n",
    "print(paramDict['country'])\n",
    "\n",
    "NB_file = 'C:\\\\Users\\\\roh\\Documents\\\\python\\\\Optimus\\\\autobot\\\\DClickReport.ipynb'\n",
    "\n",
    "res = pm.execute_notebook(\n",
    "    NB_file, NB_file.replace('.ipynb', '_output.ipynb'),\n",
    "    parameters = paramDict\n",
    ")"
   ]
  },
  {
   "cell_type": "code",
   "execution_count": 3,
   "id": "e498a211",
   "metadata": {},
   "outputs": [
    {
     "name": "stdout",
     "output_type": "stream",
     "text": [
      "{'cells': [{'cell_type': 'code', 'execution_count': 1, 'id': '0ad36782', 'metadata': {'tags': ['parameters'], 'papermill': {'exception': False, 'start_time': '2022-12-04T14:03:57.059404', 'end_time': '2022-12-04T14:03:57.094532', 'duration': 0.035128, 'status': 'completed'}, 'execution': {'iopub.status.busy': '2022-12-04T14:03:57.065988Z', 'iopub.execute_input': '2022-12-04T14:03:57.068159Z', 'shell.execute_reply': '2022-12-04T14:03:57.090527Z', 'iopub.status.idle': '2022-12-04T14:03:57.092264Z'}}, 'outputs': [], 'source': 'name = \"Joe\"'}, {'id': '655c04fa', 'cell_type': 'code', 'metadata': {'tags': ['injected-parameters'], 'papermill': {'exception': False, 'start_time': '2022-12-04T14:03:57.102132', 'end_time': '2022-12-04T14:03:57.133288', 'duration': 0.031156, 'status': 'completed'}, 'execution': {'iopub.status.busy': '2022-12-04T14:03:57.108206Z', 'iopub.execute_input': '2022-12-04T14:03:57.109201Z', 'iopub.status.idle': '2022-12-04T14:03:57.130913Z', 'shell.execute_reply': '2022-12-04T14:03:57.129911Z'}}, 'execution_count': 2, 'source': '# Parameters\\nname = \"Matt\"\\n', 'outputs': []}, {'cell_type': 'code', 'execution_count': 3, 'id': 'bbef7e95', 'metadata': {'tags': [], 'papermill': {'exception': False, 'start_time': '2022-12-04T14:03:57.134290', 'end_time': '2022-12-04T14:03:57.156057', 'duration': 0.021767, 'status': 'completed'}, 'execution': {'iopub.status.busy': '2022-12-04T14:03:57.139309Z', 'iopub.execute_input': '2022-12-04T14:03:57.140310Z', 'iopub.status.idle': '2022-12-04T14:03:57.154026Z', 'shell.execute_reply': '2022-12-04T14:03:57.152959Z'}}, 'outputs': [{'output_type': 'stream', 'name': 'stdout', 'text': 'Hello Matt\\n'}], 'source': 'print(f\"Hello {name}\")'}, {'cell_type': 'code', 'execution_count': None, 'id': '65001212', 'metadata': {'tags': [], 'papermill': {'exception': False, 'start_time': '2022-12-04T14:03:57.158351', 'end_time': '2022-12-04T14:03:57.161479', 'duration': 0.003128, 'status': 'completed'}}, 'outputs': [], 'source': ''}], 'metadata': {'celltoolbar': 'Tags', 'kernelspec': {'display_name': 'optimus', 'language': 'python', 'name': 'optimus'}, 'language_info': {'name': 'python', 'version': '3.10.8', 'mimetype': 'text/x-python', 'codemirror_mode': {'name': 'ipython', 'version': 3}, 'pygments_lexer': 'ipython3', 'nbconvert_exporter': 'python', 'file_extension': '.py'}, 'papermill': {'default_parameters': {}, 'parameters': {'name': 'Matt'}, 'environment_variables': {}, 'version': '2.4.0', 'input_path': 'papermill_example1.ipynb', 'output_path': 'papermill_Matt.ipynb', 'start_time': '2022-12-04T14:03:54.663962', 'end_time': '2022-12-04T14:03:57.430326', 'duration': 2.766364, 'exception': None}}, 'nbformat': 4, 'nbformat_minor': 5}\n"
     ]
    }
   ],
   "source": [
    "print(res)"
   ]
  },
  {
   "cell_type": "code",
   "execution_count": 4,
   "id": "b159a307",
   "metadata": {},
   "outputs": [
    {
     "data": {
      "text/plain": [
       "{'name': {'name': 'name',\n",
       "  'inferred_type_name': 'None',\n",
       "  'default': '\"Joe\"',\n",
       "  'help': ''}}"
      ]
     },
     "execution_count": 4,
     "metadata": {},
     "output_type": "execute_result"
    }
   ],
   "source": [
    "pm.inspect_notebook('papermill_example1.ipynb')"
   ]
  },
  {
   "cell_type": "code",
   "execution_count": null,
   "id": "810039f9",
   "metadata": {},
   "outputs": [],
   "source": []
  }
 ],
 "metadata": {
  "kernelspec": {
   "display_name": "optimus",
   "language": "python",
   "name": "optimus"
  },
  "language_info": {
   "codemirror_mode": {
    "name": "ipython",
    "version": 3
   },
   "file_extension": ".py",
   "mimetype": "text/x-python",
   "name": "python",
   "nbconvert_exporter": "python",
   "pygments_lexer": "ipython3",
   "version": "3.10.8"
  }
 },
 "nbformat": 4,
 "nbformat_minor": 5
}
